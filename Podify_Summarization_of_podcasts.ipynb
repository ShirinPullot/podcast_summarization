{
  "nbformat": 4,
  "nbformat_minor": 0,
  "metadata": {
    "colab": {
      "provenance": [],
      "include_colab_link": true
    },
    "kernelspec": {
      "name": "python3",
      "display_name": "Python 3"
    },
    "language_info": {
      "name": "python"
    },
    "accelerator": "GPU",
    "gpuClass": "standard"
  },
  "cells": [
    {
      "cell_type": "markdown",
      "metadata": {
        "id": "view-in-github",
        "colab_type": "text"
      },
      "source": [
        "<a href=\"https://colab.research.google.com/github/ShirinPullot/podcast_summarization/blob/main/Podify_Summarization_of_podcasts.ipynb\" target=\"_parent\"><img src=\"https://colab.research.google.com/assets/colab-badge.svg\" alt=\"Open In Colab\"/></a>"
      ]
    },
    {
      "cell_type": "code",
      "source": [
        "!nvidia-smi"
      ],
      "metadata": {
        "colab": {
          "base_uri": "https://localhost:8080/"
        },
        "id": "JCKjkhPnlgJO",
        "outputId": "ea186a30-4e15-4f1a-88c3-d12a703335a4"
      },
      "execution_count": 1,
      "outputs": [
        {
          "output_type": "stream",
          "name": "stdout",
          "text": [
            "Sun Mar 19 08:08:48 2023       \n",
            "+-----------------------------------------------------------------------------+\n",
            "| NVIDIA-SMI 525.85.12    Driver Version: 525.85.12    CUDA Version: 12.0     |\n",
            "|-------------------------------+----------------------+----------------------+\n",
            "| GPU  Name        Persistence-M| Bus-Id        Disp.A | Volatile Uncorr. ECC |\n",
            "| Fan  Temp  Perf  Pwr:Usage/Cap|         Memory-Usage | GPU-Util  Compute M. |\n",
            "|                               |                      |               MIG M. |\n",
            "|===============================+======================+======================|\n",
            "|   0  Tesla T4            Off  | 00000000:00:04.0 Off |                    0 |\n",
            "| N/A   68C    P0    29W /  70W |      0MiB / 15360MiB |      0%      Default |\n",
            "|                               |                      |                  N/A |\n",
            "+-------------------------------+----------------------+----------------------+\n",
            "                                                                               \n",
            "+-----------------------------------------------------------------------------+\n",
            "| Processes:                                                                  |\n",
            "|  GPU   GI   CI        PID   Type   Process name                  GPU Memory |\n",
            "|        ID   ID                                                   Usage      |\n",
            "|=============================================================================|\n",
            "|  No running processes found                                                 |\n",
            "+-----------------------------------------------------------------------------+\n"
          ]
        }
      ]
    },
    {
      "cell_type": "code",
      "source": [
        "from __future__ import unicode_literals\n"
      ],
      "metadata": {
        "id": "gR8Dno0GqXPv"
      },
      "execution_count": 2,
      "outputs": []
    },
    {
      "cell_type": "code",
      "source": [
        "#install python 3.9\n",
        "!sudo apt-get update -y\n",
        "!sudo apt-get install python3.9"
      ],
      "metadata": {
        "colab": {
          "base_uri": "https://localhost:8080/"
        },
        "id": "qFJuP02e6ZO7",
        "outputId": "7d6dcd04-2144-456f-aaae-0aca379f8047"
      },
      "execution_count": 3,
      "outputs": [
        {
          "output_type": "stream",
          "name": "stdout",
          "text": [
            "\r0% [Working]\r            \rHit:1 http://ppa.launchpad.net/c2d4u.team/c2d4u4.0+/ubuntu focal InRelease\n",
            "\r0% [Waiting for headers] [Connecting to security.ubuntu.com (91.189.91.39)] [Co\r                                                                               \rHit:2 http://archive.ubuntu.com/ubuntu focal InRelease\n",
            "\r0% [Waiting for headers] [Connecting to security.ubuntu.com (91.189.91.39)] [Co\r                                                                               \rHit:3 http://ppa.launchpad.net/cran/libgit2/ubuntu focal InRelease\n",
            "\r0% [Waiting for headers] [Connecting to security.ubuntu.com (91.189.91.39)] [Co\r                                                                               \rHit:4 http://archive.ubuntu.com/ubuntu focal-updates InRelease\n",
            "\r0% [Waiting for headers] [Connecting to security.ubuntu.com (91.189.91.39)] [Co\r                                                                               \rHit:5 http://archive.ubuntu.com/ubuntu focal-backports InRelease\n",
            "\r0% [Connecting to security.ubuntu.com (91.189.91.39)] [Waiting for headers] [Wa\r                                                                               \rHit:6 http://ppa.launchpad.net/deadsnakes/ppa/ubuntu focal InRelease\n",
            "\r0% [Connecting to security.ubuntu.com (91.189.91.39)] [Waiting for headers] [Co\r                                                                               \rHit:7 https://cloud.r-project.org/bin/linux/ubuntu focal-cran40/ InRelease\n",
            "\r0% [Connecting to security.ubuntu.com (91.189.91.39)] [Connecting to ppa.launch\r                                                                               \rHit:8 http://ppa.launchpad.net/graphics-drivers/ppa/ubuntu focal InRelease\n",
            "\r0% [Waiting for headers] [Connecting to ppa.launchpad.net (185.125.190.52)] [Wa\r                                                                               \rHit:9 https://developer.download.nvidia.com/compute/cuda/repos/ubuntu2004/x86_64  InRelease\n",
            "Hit:10 http://ppa.launchpad.net/ubuntugis/ppa/ubuntu focal InRelease\n",
            "Hit:11 http://security.ubuntu.com/ubuntu focal-security InRelease\n",
            "Reading package lists... Done\n",
            "Reading package lists... Done\n",
            "Building dependency tree       \n",
            "Reading state information... Done\n",
            "python3.9 is already the newest version (3.9.16-1+focal1).\n",
            "0 upgraded, 0 newly installed, 0 to remove and 38 not upgraded.\n"
          ]
        }
      ]
    },
    {
      "cell_type": "code",
      "source": [
        "! pip install openai-whisper==20230117"
      ],
      "metadata": {
        "id": "mLUP4L2Jokay",
        "outputId": "a3bd9c33-8acc-4d59-a6b3-9670b899e2c7",
        "colab": {
          "base_uri": "https://localhost:8080/"
        }
      },
      "execution_count": 4,
      "outputs": [
        {
          "output_type": "stream",
          "name": "stdout",
          "text": [
            "Looking in indexes: https://pypi.org/simple, https://us-python.pkg.dev/colab-wheels/public/simple/\n",
            "Requirement already satisfied: openai-whisper==20230117 in /usr/local/lib/python3.9/dist-packages (20230117)\n",
            "Requirement already satisfied: more-itertools in /usr/local/lib/python3.9/dist-packages (from openai-whisper==20230117) (9.1.0)\n",
            "Requirement already satisfied: numpy in /usr/local/lib/python3.9/dist-packages (from openai-whisper==20230117) (1.22.4)\n",
            "Requirement already satisfied: transformers>=4.19.0 in /usr/local/lib/python3.9/dist-packages (from openai-whisper==20230117) (4.27.1)\n",
            "Requirement already satisfied: torch in /usr/local/lib/python3.9/dist-packages (from openai-whisper==20230117) (1.13.1+cu116)\n",
            "Requirement already satisfied: ffmpeg-python==0.2.0 in /usr/local/lib/python3.9/dist-packages (from openai-whisper==20230117) (0.2.0)\n",
            "Requirement already satisfied: tqdm in /usr/local/lib/python3.9/dist-packages (from openai-whisper==20230117) (4.65.0)\n",
            "Requirement already satisfied: future in /usr/local/lib/python3.9/dist-packages (from ffmpeg-python==0.2.0->openai-whisper==20230117) (0.18.3)\n",
            "Requirement already satisfied: regex!=2019.12.17 in /usr/local/lib/python3.9/dist-packages (from transformers>=4.19.0->openai-whisper==20230117) (2022.10.31)\n",
            "Requirement already satisfied: tokenizers!=0.11.3,<0.14,>=0.11.1 in /usr/local/lib/python3.9/dist-packages (from transformers>=4.19.0->openai-whisper==20230117) (0.13.2)\n",
            "Requirement already satisfied: filelock in /usr/local/lib/python3.9/dist-packages (from transformers>=4.19.0->openai-whisper==20230117) (3.10.0)\n",
            "Requirement already satisfied: packaging>=20.0 in /usr/local/lib/python3.9/dist-packages (from transformers>=4.19.0->openai-whisper==20230117) (23.0)\n",
            "Requirement already satisfied: requests in /usr/local/lib/python3.9/dist-packages (from transformers>=4.19.0->openai-whisper==20230117) (2.27.1)\n",
            "Requirement already satisfied: huggingface-hub<1.0,>=0.11.0 in /usr/local/lib/python3.9/dist-packages (from transformers>=4.19.0->openai-whisper==20230117) (0.13.2)\n",
            "Requirement already satisfied: pyyaml>=5.1 in /usr/local/lib/python3.9/dist-packages (from transformers>=4.19.0->openai-whisper==20230117) (6.0)\n",
            "Requirement already satisfied: typing-extensions in /usr/local/lib/python3.9/dist-packages (from torch->openai-whisper==20230117) (4.5.0)\n",
            "Requirement already satisfied: charset-normalizer~=2.0.0 in /usr/local/lib/python3.9/dist-packages (from requests->transformers>=4.19.0->openai-whisper==20230117) (2.0.12)\n",
            "Requirement already satisfied: certifi>=2017.4.17 in /usr/local/lib/python3.9/dist-packages (from requests->transformers>=4.19.0->openai-whisper==20230117) (2022.12.7)\n",
            "Requirement already satisfied: idna<4,>=2.5 in /usr/local/lib/python3.9/dist-packages (from requests->transformers>=4.19.0->openai-whisper==20230117) (3.4)\n",
            "Requirement already satisfied: urllib3<1.27,>=1.21.1 in /usr/local/lib/python3.9/dist-packages (from requests->transformers>=4.19.0->openai-whisper==20230117) (1.26.15)\n"
          ]
        }
      ]
    },
    {
      "cell_type": "code",
      "source": [
        "import re\n",
        "import whisper\n",
        "from whisper.utils import write_vtt\n",
        "import requests\n",
        "import os\n",
        "import nltk\n",
        "import heapq\n",
        "from bs4 import BeautifulSoup\n",
        "\n",
        "nltk.download('punkt')\n",
        "nltk.download('stopwords')\n",
        "\n",
        "\n"
      ],
      "metadata": {
        "id": "IVzS3KnzdATF",
        "colab": {
          "base_uri": "https://localhost:8080/"
        },
        "outputId": "1024db49-8be7-46fc-8d43-8c8a878f9dd4"
      },
      "execution_count": 5,
      "outputs": [
        {
          "output_type": "stream",
          "name": "stderr",
          "text": [
            "[nltk_data] Downloading package punkt to /root/nltk_data...\n",
            "[nltk_data]   Package punkt is already up-to-date!\n",
            "[nltk_data] Downloading package stopwords to /root/nltk_data...\n",
            "[nltk_data]   Package stopwords is already up-to-date!\n"
          ]
        },
        {
          "output_type": "execute_result",
          "data": {
            "text/plain": [
              "True"
            ]
          },
          "metadata": {},
          "execution_count": 5
        }
      ]
    },
    {
      "cell_type": "markdown",
      "source": [
        "\n",
        "# 1. First step is to get transcripts from podcast link\n"
      ],
      "metadata": {
        "id": "rVhmdnX8-1r2"
      }
    },
    {
      "cell_type": "code",
      "source": [
        "\n",
        "\n",
        "model = whisper.load_model(\"medium\")\n",
        "\n",
        "def get_transcripts(link):\n",
        "  content = requests.get(link)\n",
        "  soup = BeautifulSoup(content.text)\n",
        "  podcast_url = re.findall(\"(?P<url>\\;https?://[^\\s]+)\", content.text)[0].split(';')[1]\n",
        "  print(podcast_url)\n",
        "  \n",
        "\n",
        "  download = requests.get(podcast_url)\n",
        "\n",
        "  with open('podcast.mp3', 'wb') as f:\n",
        "    f.write(download.content)\n",
        "\n",
        "  result = model.transcribe('podcast.mp3')\n",
        "\n",
        "  with open('sub.vtt', \"w\", encoding='utf-8') as txt:\n",
        "    write_vtt(result[\"segments\"], file=txt)\n",
        "\n",
        "  return (result['text'], 'sub.vtt')\n",
        "\n",
        "  \n",
        "\n",
        "\n"
      ],
      "metadata": {
        "id": "AWM2phq8YfzT"
      },
      "execution_count": 6,
      "outputs": []
    },
    {
      "cell_type": "code",
      "source": [
        "transcripts= get_transcripts('https://podcasts.google.com/feed/aHR0cHM6Ly9mZWVkczIuZmVlZGJ1cm5lci5jb20vdGVkdGFsa3NfYXVkaW8/episode/ZW4uYXVkaW8udGFsay50ZWQuY29tOjk3NDA4?sa=X&ved=0CAUQkfYCahgKEwiQuOnlr7L6AhUAAAAAHQAAAAAQiwc')\n",
        "transcript= ''.join(transcripts)\n",
        "print(transcript)"
      ],
      "metadata": {
        "id": "FQ8RplqOec_z",
        "colab": {
          "base_uri": "https://localhost:8080/"
        },
        "outputId": "8ce5740a-d913-4f93-a5f3-01e32dfd1b84"
      },
      "execution_count": 33,
      "outputs": [
        {
          "output_type": "stream",
          "name": "stdout",
          "text": [
            "https://backend.endpoints.firstory-709db.cloud.goog/play.mp3?url=https%3A%2F%2Fdts.podtrac.com%2Fredirect.mp3%2Fdownload.ted.com%2Ftalks%2FEnzoRomero_2022U.mp3%3Fapikey%3D172BB350-0207%26prx_url%3Dhttps%3A%2F%2Fchtbl.com%2Ftrack%2F48D18%2Fhttps%3A%2F%2Fdovetail.prxu.org%2F70%2F1ebf1923-1f21-455d-9520-2319f2b9f17c%2FEnzoRomero_2022U_VO_Intro.mp3\n",
            " It's TED Talks Daily. I'm Elise Hugh. Prosthetics have advanced so much in recent years, but for amputees around the world, they're still often way too expensive. In his talk from TED 2022, bionic innovator Enzo Romero shares how he's found unconventional solutions to get more advanced prosthetics to the people who need them. He makes them more affordable and functional. Have you ever wondered what makes great minds tick? I'm Adam Grant, and on my new podcast Rethinking, I'm trying to find the answers. Every week, I interview some of my favorite thinkers to learn how we can bring out the best in ourselves and others. I talk to death-defying rock clappers, Oscar-winning filmmakers, creators like Lin-Manuel Miranda, entrepreneurs like Mark Cuban, and thought leaders like Grené Brown. Find Rethinking on Apple Podcasts, Spotify, Amazon Music, or wherever you listen. One in seven people around the world has some kind of disability. Being born without my right hand has defined who I am over the past 30 years. I was fortunate to grow in the sacred valley of the Incas in Cusco, Peru, surrounded by people who weren't surprised to see me driving my bike or probably playing basketball. When I was seven, I remember being stunned after I watched Star Wars, The Empire Strikes Back, when Luke's hand gets cut off, the same one I didn't have. But then being twice as stunned when the medical robots fitted in with a prosthesis that could move and feel. From then on, no greater purpose lived in my mind, which was to have a prosthesis like Luke Skywalker. This dream led me to study mechatronics engineering and access the biomechanics and applied robotics laboratory in Pontifical Catholic University of Peru, where, with a multidisciplinary team, we developed a myoelectric prosthesis for long-term radial amputation, being me the pilot user. I was able to move each finger individually, and also we developed a way in which we get to pass the sensation from the fingertips into my forearm using haptic feedback system. Since this was a research project, we had enough funding to buy stuff from abroad. So, for example, the motors here were all brought by Switzerland. This is one of the main reasons why it will cost at least $40,000 to make this prosthesis. But 40k is way too much, considering that four out of five people with upper limb amputation live in development countries. Even the $25,000 that costs a robotic prosthesis imported from abroad is way too much. In Peru, that is equivalent to work full-time on a minimum wage for almost seven years just to buy the prosthesis, never mind pay for your food or your house. It is often that people get injured while doing manual labor activities, like farming or metal manufacturing. Getting back to work and having access to money demands a functional hand. It took me time to realize what a huge privilege I had to study a career that would help fulfill my dreams. But actually, what was preventing me from developing a solution that was both affordable and functional? The very first step in order to reduce the cost was to reduce the number of motors, because they were all imported and therefore expensive. So we get to arrange occupational focus groups with our amputee volunteers in order to identify which gestures they will use the most, and of those, how many we could perform using just a single motor. The answer was three. Pinch, cylindrical, and lateral. This also helps us to reduce the number of electromyographic sensors too. From an arrangement of eight, we pass just to one. In this way, between mixed inner mechanical and myoelectric prosthesis, the prices will be dramatically low. But material prices matter too. And that's why we choose to 3D print our prosthesis using mainly plastic from recycled bottles. In order to develop our prosthesis, the process will go like this. First, we'll use our 3D scan and our own parameterization software in order to take the measures of the amputated area and the other hand of the user. Then we'll recreate the entire set of fingers, the palm, and the prosthesis socket in our computational model to finally 3D print each of those parts. So far, in lab bionics, we have two types of prosthesis. Mach-E, which is a mechanical activation, and Pisco, with electronic activation. Pisco costs just 10% of an imported robotic prosthesis that will come from abroad. This means that even more working class people can access to our technology. For me, this has been a path where I will be able to develop this in my company, lab bionics. So for example, take Franco, which now is using his transradial Mach-E prosthesis in order to get back to work with his providers on the jungle farm he has. I am certain that we are able to be on the side with technology that is brought from abroad to our region, being sold in a very expensive way. We have the capacity to develop our own technology, having the necessities of our people in mind. So then people with disabilities and limited resources could live a life again. For me, when people, our users, get back to work on their places, that look of compassion changes to astonishment. The same astonishment which I had when I saw Luke Skywalker's prosthesis. So this began as a path for myself, but it now belongs to my entire region. Would you like to join us? Thank you so much. For millennia, we have debated the link between our mental, physical and spiritual health. So where are we now? We're going to have major breakthroughs in the ability to integrate the whole mind. What does consenting look, feel and sound like for me? And how do I recognize that in other people? I think of it as energy. Are we amplifying our energy? Are we diminishing our energy? Mind, Body, Spirit, a three-part series on the TED Radio Hour from NPR. Listen wherever you get your podcasts. TED Talks Daily is hosted by me, Elise Huw, and produced by TED. Theme music is from Allison Leighton Brown, and our mixer is Christopher Faisy-Bogan. We record the talks at TED events we host or from TEDx events, which are organized independently by volunteers all over the world. And we'd love to hear from you. Leave us a review on Apple podcasts or email us at podcastsatted.com.sub.vtt\n"
          ]
        }
      ]
    },
    {
      "cell_type": "markdown",
      "source": [
        "\n",
        "# 2.Summarizing the transcripts obtained from the audio files\n",
        "\n",
        "\n",
        "\n",
        "1.  Summarization technique using word frequency and NLTK library:\n",
        "\n"
      ],
      "metadata": {
        "id": "7N1YsrtgGvpD"
      }
    },
    {
      "cell_type": "code",
      "source": [
        "# def get_nltk_summary(link):\n",
        "  \n",
        "#   transcript= get_transcripts(link)\n",
        "#   transcript= ''.join(transcript)\n",
        "#   sentence_list = nltk.sent_tokenize(transcript)\n",
        "#   stopwords = nltk.corpus.stopwords.words('english')\n",
        "#   word_frequencies = {}\n",
        "#   for word in nltk.word_tokenize(transcript):\n",
        "#       if word not in stopwords:\n",
        "#           if word not in word_frequencies.keys():\n",
        "#               word_frequencies[word] = 1\n",
        "#           else:\n",
        "#               word_frequencies[word] += 1\n",
        "#   maximum_frequncy = max(word_frequencies.values())\n",
        "#   for word in word_frequencies.keys():\n",
        "#       word_frequencies[word] = (word_frequencies[word]/maximum_frequncy)\n",
        "#   sentence_scores = {}\n",
        "#   for sent in sentence_list:\n",
        "#       for word in nltk.word_tokenize(sent.lower()):\n",
        "#           if word in word_frequencies.keys():\n",
        "#               if len(sent.split(' ')) < 30:\n",
        "#                   if sent not in sentence_scores.keys():\n",
        "#                       sentence_scores[sent] = word_frequencies[word]\n",
        "#                   else:\n",
        "#                       sentence_scores[sent] += word_frequencies[word]\n",
        "#   from pprint import pprint\n",
        "#   summary_sentences = heapq.nlargest(15, sentence_scores, key=sentence_scores.get)\n",
        "#   summary = ' '.join(summary_sentences)\n",
        "#   # pprint( summary)\n",
        "\n",
        "#   print('lines in summary: ', len(summary.split('.')))"
      ],
      "metadata": {
        "id": "n2aUsB96qu9n"
      },
      "execution_count": 8,
      "outputs": []
    },
    {
      "cell_type": "markdown",
      "source": [
        "## 2. Summarization using genism(Text rank algorithm)\n",
        "\n",
        "**bold text**\n"
      ],
      "metadata": {
        "id": "AWSU4QJIHoLX"
      }
    },
    {
      "cell_type": "code",
      "source": [
        "from gensim.summarization.summarizer import summarize\n",
        "from gensim.summarization import keywords"
      ],
      "metadata": {
        "id": "WlaNlHzOvUSB"
      },
      "execution_count": 9,
      "outputs": []
    },
    {
      "cell_type": "code",
      "source": [
        "def get_textrank_summary(link):\n",
        "  transcript= get_transcripts(link)\n",
        "  transcript= ''.join(transcript)\n",
        "  return str(summarize(transcript, ratio=0.5))\n"
      ],
      "metadata": {
        "id": "vCQLE7ORHzs8"
      },
      "execution_count": 10,
      "outputs": []
    },
    {
      "cell_type": "code",
      "source": [
        "textrank_summary= get_textrank_summary('https://podcasts.google.com/feed/aHR0cHM6Ly9mZWVkczIuZmVlZGJ1cm5lci5jb20vdGVkdGFsa3NfYXVkaW8/episode/ZW4uYXVkaW8udGFsay50ZWQuY29tOjk3NDA4?sa=X&ved=0CAUQkfYCahgKEwiQuOnlr7L6AhUAAAAAHQAAAAAQiwc')\n",
        "print(textrank_summary)"
      ],
      "metadata": {
        "colab": {
          "base_uri": "https://localhost:8080/"
        },
        "id": "7PP75EeoSO3t",
        "outputId": "7cc8fbd0-8fe7-4cb6-deca-233f8406b947"
      },
      "execution_count": 34,
      "outputs": [
        {
          "output_type": "stream",
          "name": "stdout",
          "text": [
            "https://backend.endpoints.firstory-709db.cloud.goog/play.mp3?url=https%3A%2F%2Fdts.podtrac.com%2Fredirect.mp3%2Fdownload.ted.com%2Ftalks%2FEnzoRomero_2022U.mp3%3Fapikey%3D172BB350-0207%26prx_url%3Dhttps%3A%2F%2Fchtbl.com%2Ftrack%2F48D18%2Fhttps%3A%2F%2Fdovetail.prxu.org%2F70%2F1ebf1923-1f21-455d-9520-2319f2b9f17c%2FEnzoRomero_2022U_VO_Intro.mp3\n",
            "Prosthetics have advanced so much in recent years, but for amputees around the world, they're still often way too expensive.\n",
            "In his talk from TED 2022, bionic innovator Enzo Romero shares how he's found unconventional solutions to get more advanced prosthetics to the people who need them.\n",
            "I'm Adam Grant, and on my new podcast Rethinking, I'm trying to find the answers.\n",
            "Find Rethinking on Apple Podcasts, Spotify, Amazon Music, or wherever you listen.\n",
            "One in seven people around the world has some kind of disability.\n",
            "But then being twice as stunned when the medical robots fitted in with a prosthesis that could move and feel.\n",
            "From then on, no greater purpose lived in my mind, which was to have a prosthesis like Luke Skywalker.\n",
            "This dream led me to study mechatronics engineering and access the biomechanics and applied robotics laboratory in Pontifical Catholic University of Peru, where, with a multidisciplinary team, we developed a myoelectric prosthesis for long-term radial amputation, being me the pilot user.\n",
            "I was able to move each finger individually, and also we developed a way in which we get to pass the sensation from the fingertips into my forearm using haptic feedback system.\n",
            "But 40k is way too much, considering that four out of five people with upper limb amputation live in development countries.\n",
            "Even the $25,000 that costs a robotic prosthesis imported from abroad is way too much.\n",
            "In Peru, that is equivalent to work full-time on a minimum wage for almost seven years just to buy the prosthesis, never mind pay for your food or your house.\n",
            "It is often that people get injured while doing manual labor activities, like farming or metal manufacturing.\n",
            "Getting back to work and having access to money demands a functional hand.\n",
            "But actually, what was preventing me from developing a solution that was both affordable and functional?\n",
            "The very first step in order to reduce the cost was to reduce the number of motors, because they were all imported and therefore expensive.\n",
            "So we get to arrange occupational focus groups with our amputee volunteers in order to identify which gestures they will use the most, and of those, how many we could perform using just a single motor.\n",
            "In this way, between mixed inner mechanical and myoelectric prosthesis, the prices will be dramatically low.\n",
            "In order to develop our prosthesis, the process will go like this.\n",
            "So far, in lab bionics, we have two types of prosthesis.\n",
            "Pisco costs just 10% of an imported robotic prosthesis that will come from abroad.\n",
            "This means that even more working class people can access to our technology.\n",
            "For me, this has been a path where I will be able to develop this in my company, lab bionics.\n",
            "So for example, take Franco, which now is using his transradial Mach-E prosthesis in order to get back to work with his providers on the jungle farm he has.\n",
            "I am certain that we are able to be on the side with technology that is brought from abroad to our region, being sold in a very expensive way.\n",
            "We have the capacity to develop our own technology, having the necessities of our people in mind.\n",
            "For me, when people, our users, get back to work on their places, that look of compassion changes to astonishment.\n",
            "The same astonishment which I had when I saw Luke Skywalker's prosthesis.\n",
            "I think of it as energy.\n",
            "Are we amplifying our energy?\n",
            "Are we diminishing our energy?\n",
            "Listen wherever you get your podcasts.\n",
            "TED Talks Daily is hosted by me, Elise Huw, and produced by TED.\n",
            "We record the talks at TED events we host or from TEDx events, which are organized independently by volunteers all over the world.\n"
          ]
        }
      ]
    },
    {
      "cell_type": "code",
      "source": [
        "len(transcript.split('.'))"
      ],
      "metadata": {
        "colab": {
          "base_uri": "https://localhost:8080/"
        },
        "id": "sJWzTzCV7WTv",
        "outputId": "7d8c21cd-b925-43e9-c73a-2b005f93ab7a"
      },
      "execution_count": 14,
      "outputs": [
        {
          "output_type": "execute_result",
          "data": {
            "text/plain": [
              "64"
            ]
          },
          "metadata": {},
          "execution_count": 14
        }
      ]
    },
    {
      "cell_type": "markdown",
      "source": [
        "## 3. Summarization using LSA :\n",
        "Latent Semantic Analysis is a unsupervised learning algorithm that can be used for extractive text summarization.\n",
        "\n",
        "It extracts semantically significant sentences by applying singular value decomposition(SVD) to the matrix of term-document frequency."
      ],
      "metadata": {
        "id": "2dPr4FJoSdd7"
      }
    },
    {
      "cell_type": "code",
      "source": [
        "! pip install sumy"
      ],
      "metadata": {
        "colab": {
          "base_uri": "https://localhost:8080/"
        },
        "id": "Z-uyvdB_qyMe",
        "outputId": "240cbc3c-aa96-4b72-f879-2998d6fdb758"
      },
      "execution_count": 16,
      "outputs": [
        {
          "output_type": "stream",
          "name": "stdout",
          "text": [
            "Looking in indexes: https://pypi.org/simple, https://us-python.pkg.dev/colab-wheels/public/simple/\n",
            "Requirement already satisfied: sumy in /usr/local/lib/python3.9/dist-packages (0.11.0)\n",
            "Requirement already satisfied: docopt<0.7,>=0.6.1 in /usr/local/lib/python3.9/dist-packages (from sumy) (0.6.2)\n",
            "Requirement already satisfied: requests>=2.7.0 in /usr/local/lib/python3.9/dist-packages (from sumy) (2.27.1)\n",
            "Requirement already satisfied: breadability>=0.1.20 in /usr/local/lib/python3.9/dist-packages (from sumy) (0.1.20)\n",
            "Requirement already satisfied: nltk>=3.0.2 in /usr/local/lib/python3.9/dist-packages (from sumy) (3.8.1)\n",
            "Requirement already satisfied: pycountry>=18.2.23 in /usr/local/lib/python3.9/dist-packages (from sumy) (22.3.5)\n",
            "Requirement already satisfied: chardet in /usr/lib/python3/dist-packages (from breadability>=0.1.20->sumy) (3.0.4)\n",
            "Requirement already satisfied: lxml>=2.0 in /usr/local/lib/python3.9/dist-packages (from breadability>=0.1.20->sumy) (4.9.2)\n",
            "Requirement already satisfied: regex>=2021.8.3 in /usr/local/lib/python3.9/dist-packages (from nltk>=3.0.2->sumy) (2022.10.31)\n",
            "Requirement already satisfied: joblib in /usr/local/lib/python3.9/dist-packages (from nltk>=3.0.2->sumy) (1.1.1)\n",
            "Requirement already satisfied: tqdm in /usr/local/lib/python3.9/dist-packages (from nltk>=3.0.2->sumy) (4.65.0)\n",
            "Requirement already satisfied: click in /usr/local/lib/python3.9/dist-packages (from nltk>=3.0.2->sumy) (8.1.3)\n",
            "Requirement already satisfied: setuptools in /usr/local/lib/python3.9/dist-packages (from pycountry>=18.2.23->sumy) (63.4.3)\n",
            "Requirement already satisfied: idna<4,>=2.5 in /usr/local/lib/python3.9/dist-packages (from requests>=2.7.0->sumy) (3.4)\n",
            "Requirement already satisfied: charset-normalizer~=2.0.0 in /usr/local/lib/python3.9/dist-packages (from requests>=2.7.0->sumy) (2.0.12)\n",
            "Requirement already satisfied: certifi>=2017.4.17 in /usr/local/lib/python3.9/dist-packages (from requests>=2.7.0->sumy) (2022.12.7)\n",
            "Requirement already satisfied: urllib3<1.27,>=1.21.1 in /usr/local/lib/python3.9/dist-packages (from requests>=2.7.0->sumy) (1.26.15)\n"
          ]
        }
      ]
    },
    {
      "cell_type": "code",
      "source": [
        "from sumy.summarizers.lsa import LsaSummarizer\n",
        "from sumy.nlp.tokenizers import Tokenizer\n",
        "from sumy.parsers.plaintext import PlaintextParser\n"
      ],
      "metadata": {
        "id": "m17iku0hpi2l"
      },
      "execution_count": 17,
      "outputs": []
    },
    {
      "cell_type": "code",
      "source": [
        "def get_lsa_summary(link):\n",
        "  transcript= get_transcripts(link)\n",
        "  transcript= ''.join(transcript)\n",
        "  parser=PlaintextParser.from_string(transcript,Tokenizer('english'))\n",
        "    # creating the summarizer\n",
        "  lsa_summarizer=LsaSummarizer()\n",
        "  return str(lsa_summarizer(parser.document, 32))\n",
        "  # Printing the summary\n",
        "\n",
        "\n"
      ],
      "metadata": {
        "id": "pHv4w77qqZ20"
      },
      "execution_count": 18,
      "outputs": []
    },
    {
      "cell_type": "code",
      "source": [
        "lsa_summary= get_lsa_summary('https://podcasts.google.com/feed/aHR0cHM6Ly9mZWVkczIuZmVlZGJ1cm5lci5jb20vdGVkdGFsa3NfYXVkaW8/episode/ZW4uYXVkaW8udGFsay50ZWQuY29tOjk3NDA4?sa=X&ved=0CAUQkfYCahgKEwiQuOnlr7L6AhUAAAAAHQAAAAAQiwc')\n",
        "lsa_summary"
      ],
      "metadata": {
        "colab": {
          "base_uri": "https://localhost:8080/",
          "height": 378
        },
        "id": "UEh29ELnrXGO",
        "outputId": "ce37ba78-10ce-4d35-ab76-830358822263"
      },
      "execution_count": 36,
      "outputs": [
        {
          "output_type": "stream",
          "name": "stdout",
          "text": [
            "https://backend.endpoints.firstory-709db.cloud.goog/play.mp3?url=https%3A%2F%2Fdts.podtrac.com%2Fredirect.mp3%2Fdownload.ted.com%2Ftalks%2FEnzoRomero_2022U.mp3%3Fapikey%3D172BB350-0207%26prx_url%3Dhttps%3A%2F%2Fchtbl.com%2Ftrack%2F48D18%2Fhttps%3A%2F%2Fdovetail.prxu.org%2F70%2F1ebf1923-1f21-455d-9520-2319f2b9f17c%2FEnzoRomero_2022U_VO_Intro.mp3\n"
          ]
        },
        {
          "output_type": "execute_result",
          "data": {
            "text/plain": [
              "\"(<Sentence: Prosthetics have advanced so much in recent years, but for amputees around the world, they're still often way too expensive.>, <Sentence: In his talk from TED 2022, bionic innovator Enzo Romero shares how he's found unconventional solutions to get more advanced prosthetics to the people who need them.>, <Sentence: Every week, I interview some of my favorite thinkers to learn how we can bring out the best in ourselves and others.>, <Sentence: Find Rethinking on Apple Podcasts, Spotify, Amazon Music, or wherever you listen.>, <Sentence: One in seven people around the world has some kind of disability.>, <Sentence: Being born without my right hand has defined who I am over the past 30 years.>, <Sentence: I was fortunate to grow in the sacred valley of the Incas in Cusco, Peru, surrounded by people who weren't surprised to see me driving my bike or probably playing basketball.>, <Sentence: But then being twice as stunned when the medical robots fitted in with a prosthesis that could move and feel.>, <Sentence: From then on, no greater purpose lived in my mind, which was to have a prosthesis like Luke Skywalker.>, <Sentence: This dream led me to study mechatronics engineering and access the biomechanics and applied robotics laboratory in Pontifical Catholic University of Peru, where, with a multidisciplinary team, we developed a myoelectric prosthesis for long-term radial amputation, being me the pilot user.>, <Sentence: I was able to move each finger individually, and also we developed a way in which we get to pass the sensation from the fingertips into my forearm using haptic feedback system.>, <Sentence: Since this was a research project, we had enough funding to buy stuff from abroad.>, <Sentence: So, for example, the motors here were all brought by Switzerland.>, <Sentence: But 40k is way too much, considering that four out of five people with upper limb amputation live in development countries.>, <Sentence: Even the $25,000 that costs a robotic prosthesis imported from abroad is way too much.>, <Sentence: In Peru, that is equivalent to work full-time on a minimum wage for almost seven years just to buy the prosthesis, never mind pay for your food or your house.>, <Sentence: It is often that people get injured while doing manual labor activities, like farming or metal manufacturing.>, <Sentence: So we get to arrange occupational focus groups with our amputee volunteers in order to identify which gestures they will use the most, and of those, how many we could perform using just a single motor.>, <Sentence: This also helps us to reduce the number of electromyographic sensors too.>, <Sentence: In this way, between mixed inner mechanical and myoelectric prosthesis, the prices will be dramatically low.>, <Sentence: And that's why we choose to 3D print our prosthesis using mainly plastic from recycled bottles.>, <Sentence: In order to develop our prosthesis, the process will go like this.>, <Sentence: So far, in lab bionics, we have two types of prosthesis.>, <Sentence: Pisco costs just 10% of an imported robotic prosthesis that will come from abroad.>, <Sentence: This means that even more working class people can access to our technology.>, <Sentence: So for example, take Franco, which now is using his transradial Mach-E prosthesis in order to get back to work with his providers on the jungle farm he has.>, <Sentence: I am certain that we are able to be on the side with technology that is brought from abroad to our region, being sold in a very expensive way.>, <Sentence: So then people with disabilities and limited resources could live a life again.>, <Sentence: So this began as a path for myself, but it now belongs to my entire region.>, <Sentence: For millennia, we have debated the link between our mental, physical and spiritual health.>, <Sentence: What does consenting look, feel and sound like for me?>, <Sentence: Mind, Body, Spirit, a three-part series on the TED Radio Hour from NPR.>)\""
            ],
            "application/vnd.google.colaboratory.intrinsic+json": {
              "type": "string"
            }
          },
          "metadata": {},
          "execution_count": 36
        }
      ]
    },
    {
      "cell_type": "markdown",
      "source": [
        "## 4. Summarization using LexRank:\n",
        "\n",
        "approach of LexRank is that a particular sentence is recommended by other similar sentences and hence is ranked higher.\n",
        "\n",
        "Higher the rank, higher is the priority of being included in the summarized text.\n"
      ],
      "metadata": {
        "id": "hgk-rmLJ6w9P"
      }
    },
    {
      "cell_type": "code",
      "source": [
        "from sumy.parsers.plaintext import PlaintextParser\n",
        "from sumy.nlp.tokenizers import Tokenizer\n",
        "from sumy.summarizers.lex_rank import LexRankSummarizer\n"
      ],
      "metadata": {
        "id": "hR02KafwrnAh"
      },
      "execution_count": 20,
      "outputs": []
    },
    {
      "cell_type": "code",
      "source": [
        "def get_lexrank_summary(link):\n",
        "  transcript= get_transcripts(link)\n",
        "  transcript= ''.join(transcript)\n",
        "  parser=PlaintextParser.from_string(transcript,Tokenizer('english'))\n",
        "    # Creating a summary of 3 sentences.\n",
        "  lex_rank_summarizer = LexRankSummarizer()\n",
        "  lexrank_summary = lex_rank_summarizer(parser.document,sentences_count=32)\n",
        "  return str(lexrank_summary)\n",
        "  # Printing the summary\n",
        "  "
      ],
      "metadata": {
        "id": "8WEZjnmH7Ua3"
      },
      "execution_count": 21,
      "outputs": []
    },
    {
      "cell_type": "code",
      "source": [
        "lexrank_summary= get_lexrank_summary('https://podcasts.google.com/feed/aHR0cHM6Ly9mZWVkczIuZmVlZGJ1cm5lci5jb20vdGVkdGFsa3NfYXVkaW8/episode/ZW4uYXVkaW8udGFsay50ZWQuY29tOjk3NDA4?sa=X&ved=0CAUQkfYCahgKEwiQuOnlr7L6AhUAAAAAHQAAAAAQiwc')\n",
        "print(lexrank_summary)"
      ],
      "metadata": {
        "colab": {
          "base_uri": "https://localhost:8080/",
          "height": 140
        },
        "id": "DQZoNlaN72gv",
        "outputId": "c8fff575-d271-4df4-a657-b2273a1a8f2f"
      },
      "execution_count": 22,
      "outputs": [
        {
          "output_type": "stream",
          "name": "stdout",
          "text": [
            "https://backend.endpoints.firstory-709db.cloud.goog/play.mp3?url=https%3A%2F%2Fdts.podtrac.com%2Fredirect.mp3%2Fdownload.ted.com%2Ftalks%2FEnzoRomero_2022U.mp3%3Fapikey%3D172BB350-0207%26prx_url%3Dhttps%3A%2F%2Fchtbl.com%2Ftrack%2F48D18%2Fhttps%3A%2F%2Fdovetail.prxu.org%2F70%2F1ebf1923-1f21-455d-9520-2319f2b9f17c%2FEnzoRomero_2022U_VO_Intro.mp3\n"
          ]
        },
        {
          "output_type": "execute_result",
          "data": {
            "text/plain": [
              "\"(<Sentence: Prosthetics have advanced so much in recent years, but for amputees around the world, they're still often way too expensive.>, <Sentence: He makes them more affordable and functional.>, <Sentence: One in seven people around the world has some kind of disability.>, <Sentence: When I was seven, I remember being stunned after I watched Star Wars, The Empire Strikes Back, when Luke's hand gets cut off, the same one I didn't have.>, <Sentence: But then being twice as stunned when the medical robots fitted in with a prosthesis that could move and feel.>, <Sentence: From then on, no greater purpose lived in my mind, which was to have a prosthesis like Luke Skywalker.>, <Sentence: This is one of the main reasons why it will cost at least $40,000 to make this prosthesis.>, <Sentence: But 40k is way too much, considering that four out of five people with upper limb amputation live in development countries.>, <Sentence: Even the $25,000 that costs a robotic prosthesis imported from abroad is way too much.>, <Sentence: It is often that people get injured while doing manual labor activities, like farming or metal manufacturing.>, <Sentence: But actually, what was preventing me from developing a solution that was both affordable and functional?>, <Sentence: The very first step in order to reduce the cost was to reduce the number of motors, because they were all imported and therefore expensive.>, <Sentence: So we get to arrange occupational focus groups with our amputee volunteers in order to identify which gestures they will use the most, and of those, how many we could perform using just a single motor.>, <Sentence: Pinch, cylindrical, and lateral.>, <Sentence: In this way, between mixed inner mechanical and myoelectric prosthesis, the prices will be dramatically low.>, <Sentence: In order to develop our prosthesis, the process will go like this.>, <Sentence: First, we'll use our 3D scan and our own parameterization software in order to take the measures of the amputated area and the other hand of the user.>, <Sentence: Pisco costs just 10% of an imported robotic prosthesis that will come from abroad.>, <Sentence: For me, this has been a path where I will be able to develop this in my company, lab bionics.>, <Sentence: So for example, take Franco, which now is using his transradial Mach-E prosthesis in order to get back to work with his providers on the jungle farm he has.>, <Sentence: I am certain that we are able to be on the side with technology that is brought from abroad to our region, being sold in a very expensive way.>, <Sentence: We have the capacity to develop our own technology, having the necessities of our people in mind.>, <Sentence: For me, when people, our users, get back to work on their places, that look of compassion changes to astonishment.>, <Sentence: The same astonishment which I had when I saw Luke Skywalker's prosthesis.>, <Sentence: Would you like to join us?>, <Sentence: Thank you so much.>, <Sentence: So where are we now?>, <Sentence: I think of it as energy.>, <Sentence: Listen wherever you get your podcasts.>, <Sentence: TED Talks Daily is hosted by me, Elise Huw, and produced by TED.>, <Sentence: Theme music is from Allison Leighton Brown, and our mixer is Christopher Faisy-Bogan.>, <Sentence: We record the talks at TED events we host or from TEDx events, which are organized independently by volunteers all over the world.>)\""
            ],
            "application/vnd.google.colaboratory.intrinsic+json": {
              "type": "string"
            }
          },
          "metadata": {},
          "execution_count": 22
        }
      ]
    },
    {
      "cell_type": "markdown",
      "source": [
        "## 5. Summarization using Luhn:\n",
        "\n",
        "Luhn Summarization algorithm’s approach is based on TF-IDF (Term Frequency-Inverse Document Frequency). It is useful when very low frequent words as well as highly frequent words(stopwords) are both not significant."
      ],
      "metadata": {
        "id": "5NRVAMu-74GB"
      }
    },
    {
      "cell_type": "code",
      "source": [
        "# Import the summarizer\n",
        "from sumy.summarizers.luhn import LuhnSummarizer\n",
        "# Creating the parser\n",
        "from sumy.nlp.tokenizers import Tokenizer\n",
        "from sumy.parsers.plaintext import PlaintextParser"
      ],
      "metadata": {
        "id": "yzjBW1Gs8Do3"
      },
      "execution_count": 23,
      "outputs": []
    },
    {
      "cell_type": "code",
      "source": [
        "def get_luhn_summary(link):\n",
        "  transcript= get_transcripts(link)\n",
        "  transcript= ''.join(transcript)\n",
        "  parser=PlaintextParser.from_string(transcript,Tokenizer('english'))\n",
        "      #  Creating the summarizer\n",
        "  luhn_summarizer=LuhnSummarizer()\n",
        "  luhn_summary=luhn_summarizer(parser.document,sentences_count=32)\n",
        "  return str(luhn_summary)\n",
        "\n"
      ],
      "metadata": {
        "id": "26Uipdc98Y6J"
      },
      "execution_count": 24,
      "outputs": []
    },
    {
      "cell_type": "code",
      "source": [
        "luhn_summary= get_luhn_summary('https://podcasts.google.com/feed/aHR0cHM6Ly9mZWVkczIuZmVlZGJ1cm5lci5jb20vdGVkdGFsa3NfYXVkaW8/episode/ZW4uYXVkaW8udGFsay50ZWQuY29tOjk3NDA4?sa=X&ved=0CAUQkfYCahgKEwiQuOnlr7L6AhUAAAAAHQAAAAAQiwc')\n",
        "print(luhn_summary)"
      ],
      "metadata": {
        "colab": {
          "base_uri": "https://localhost:8080/"
        },
        "id": "_UmNlaOF8rOS",
        "outputId": "f4cac8df-3603-46cd-ceb7-c0aaff6bed96"
      },
      "execution_count": 25,
      "outputs": [
        {
          "output_type": "stream",
          "name": "stdout",
          "text": [
            "https://backend.endpoints.firstory-709db.cloud.goog/play.mp3?url=https%3A%2F%2Fdts.podtrac.com%2Fredirect.mp3%2Fdownload.ted.com%2Ftalks%2FEnzoRomero_2022U.mp3%3Fapikey%3D172BB350-0207%26prx_url%3Dhttps%3A%2F%2Fchtbl.com%2Ftrack%2F48D18%2Fhttps%3A%2F%2Fdovetail.prxu.org%2F70%2F1ebf1923-1f21-455d-9520-2319f2b9f17c%2FEnzoRomero_2022U_VO_Intro.mp3\n",
            "(<Sentence: Prosthetics have advanced so much in recent years, but for amputees around the world, they're still often way too expensive.>, <Sentence: In his talk from TED 2022, bionic innovator Enzo Romero shares how he's found unconventional solutions to get more advanced prosthetics to the people who need them.>, <Sentence: Find Rethinking on Apple Podcasts, Spotify, Amazon Music, or wherever you listen.>, <Sentence: One in seven people around the world has some kind of disability.>, <Sentence: I was fortunate to grow in the sacred valley of the Incas in Cusco, Peru, surrounded by people who weren't surprised to see me driving my bike or probably playing basketball.>, <Sentence: When I was seven, I remember being stunned after I watched Star Wars, The Empire Strikes Back, when Luke's hand gets cut off, the same one I didn't have.>, <Sentence: But then being twice as stunned when the medical robots fitted in with a prosthesis that could move and feel.>, <Sentence: From then on, no greater purpose lived in my mind, which was to have a prosthesis like Luke Skywalker.>, <Sentence: This dream led me to study mechatronics engineering and access the biomechanics and applied robotics laboratory in Pontifical Catholic University of Peru, where, with a multidisciplinary team, we developed a myoelectric prosthesis for long-term radial amputation, being me the pilot user.>, <Sentence: I was able to move each finger individually, and also we developed a way in which we get to pass the sensation from the fingertips into my forearm using haptic feedback system.>, <Sentence: So, for example, the motors here were all brought by Switzerland.>, <Sentence: This is one of the main reasons why it will cost at least $40,000 to make this prosthesis.>, <Sentence: But 40k is way too much, considering that four out of five people with upper limb amputation live in development countries.>, <Sentence: Even the $25,000 that costs a robotic prosthesis imported from abroad is way too much.>, <Sentence: In Peru, that is equivalent to work full-time on a minimum wage for almost seven years just to buy the prosthesis, never mind pay for your food or your house.>, <Sentence: Getting back to work and having access to money demands a functional hand.>, <Sentence: The very first step in order to reduce the cost was to reduce the number of motors, because they were all imported and therefore expensive.>, <Sentence: So we get to arrange occupational focus groups with our amputee volunteers in order to identify which gestures they will use the most, and of those, how many we could perform using just a single motor.>, <Sentence: In this way, between mixed inner mechanical and myoelectric prosthesis, the prices will be dramatically low.>, <Sentence: In order to develop our prosthesis, the process will go like this.>, <Sentence: First, we'll use our 3D scan and our own parameterization software in order to take the measures of the amputated area and the other hand of the user.>, <Sentence: Then we'll recreate the entire set of fingers, the palm, and the prosthesis socket in our computational model to finally 3D print each of those parts.>, <Sentence: Mach-E, which is a mechanical activation, and Pisco, with electronic activation.>, <Sentence: Pisco costs just 10% of an imported robotic prosthesis that will come from abroad.>, <Sentence: For me, this has been a path where I will be able to develop this in my company, lab bionics.>, <Sentence: So for example, take Franco, which now is using his transradial Mach-E prosthesis in order to get back to work with his providers on the jungle farm he has.>, <Sentence: I am certain that we are able to be on the side with technology that is brought from abroad to our region, being sold in a very expensive way.>, <Sentence: We have the capacity to develop our own technology, having the necessities of our people in mind.>, <Sentence: For me, when people, our users, get back to work on their places, that look of compassion changes to astonishment.>, <Sentence: The same astonishment which I had when I saw Luke Skywalker's prosthesis.>, <Sentence: So this began as a path for myself, but it now belongs to my entire region.>, <Sentence: We record the talks at TED events we host or from TEDx events, which are organized independently by volunteers all over the world.>)\n"
          ]
        }
      ]
    },
    {
      "cell_type": "markdown",
      "source": [
        "## 6. Summarization using KL-Sum:\n",
        "\n",
        "Another extractive method is the KL-Sum algorithm.\n",
        "\n",
        "It selects sentences based on similarity of word distribution as the original text. It aims to lower the KL-divergence criteria (learn more). It uses greedy optimization approach and keeps adding sentences till the KL-divergence decreases."
      ],
      "metadata": {
        "id": "IW8A17WD8yHM"
      }
    },
    {
      "cell_type": "code",
      "source": [
        "from sumy.summarizers.kl import KLSummarizer\n",
        "# Creating the parser\n",
        "from sumy.nlp.tokenizers import Tokenizer\n",
        "from sumy.parsers.plaintext import PlaintextParser\n"
      ],
      "metadata": {
        "id": "OUXXPYeU8t7h"
      },
      "execution_count": 26,
      "outputs": []
    },
    {
      "cell_type": "code",
      "source": [
        "def get_klsum_summary(link):\n",
        "  transcript= get_transcripts(link)\n",
        "  transcript= ''.join(transcript)\n",
        "  parser=PlaintextParser.from_string(transcript,Tokenizer('english'))\n",
        "  # Instantiating the  KLSummarizer\n",
        "  kl_summarizer=KLSummarizer()\n",
        "  kl_summary=kl_summarizer(parser.document,sentences_count=32)\n",
        "  return str(kl_summary)\n",
        "  "
      ],
      "metadata": {
        "id": "Il9F5Nis9HlL"
      },
      "execution_count": 37,
      "outputs": []
    },
    {
      "cell_type": "code",
      "source": [
        "kl_summary= get_klsum_summary('https://podcasts.google.com/feed/aHR0cHM6Ly9mZWVkczIuZmVlZGJ1cm5lci5jb20vdGVkdGFsa3NfYXVkaW8/episode/ZW4uYXVkaW8udGFsay50ZWQuY29tOjk3NDA4?sa=X&ved=0CAUQkfYCahgKEwiQuOnlr7L6AhUAAAAAHQAAAAAQiwc')\n",
        "print(kl_summary)"
      ],
      "metadata": {
        "colab": {
          "base_uri": "https://localhost:8080/"
        },
        "id": "V13FEGzY9Vyn",
        "outputId": "b2ff4a29-54f9-4729-ea07-96ddf8b457a1"
      },
      "execution_count": 38,
      "outputs": [
        {
          "output_type": "stream",
          "name": "stdout",
          "text": [
            "https://backend.endpoints.firstory-709db.cloud.goog/play.mp3?url=https%3A%2F%2Fdts.podtrac.com%2Fredirect.mp3%2Fdownload.ted.com%2Ftalks%2FEnzoRomero_2022U.mp3%3Fapikey%3D172BB350-0207%26prx_url%3Dhttps%3A%2F%2Fchtbl.com%2Ftrack%2F48D18%2Fhttps%3A%2F%2Fdovetail.prxu.org%2F70%2F1ebf1923-1f21-455d-9520-2319f2b9f17c%2FEnzoRomero_2022U_VO_Intro.mp3\n",
            "(<Sentence: It's TED Talks Daily.>, <Sentence: Prosthetics have advanced so much in recent years, but for amputees around the world, they're still often way too expensive.>, <Sentence: Have you ever wondered what makes great minds tick?>, <Sentence: Find Rethinking on Apple Podcasts, Spotify, Amazon Music, or wherever you listen.>, <Sentence: One in seven people around the world has some kind of disability.>, <Sentence: From then on, no greater purpose lived in my mind, which was to have a prosthesis like Luke Skywalker.>, <Sentence: Since this was a research project, we had enough funding to buy stuff from abroad.>, <Sentence: This is one of the main reasons why it will cost at least $40,000 to make this prosthesis.>, <Sentence: But 40k is way too much, considering that four out of five people with upper limb amputation live in development countries.>, <Sentence: Even the $25,000 that costs a robotic prosthesis imported from abroad is way too much.>, <Sentence: In Peru, that is equivalent to work full-time on a minimum wage for almost seven years just to buy the prosthesis, never mind pay for your food or your house.>, <Sentence: It is often that people get injured while doing manual labor activities, like farming or metal manufacturing.>, <Sentence: The answer was three.>, <Sentence: This also helps us to reduce the number of electromyographic sensors too.>, <Sentence: From an arrangement of eight, we pass just to one.>, <Sentence: But material prices matter too.>, <Sentence: In order to develop our prosthesis, the process will go like this.>, <Sentence: So far, in lab bionics, we have two types of prosthesis.>, <Sentence: Pisco costs just 10% of an imported robotic prosthesis that will come from abroad.>, <Sentence: This means that even more working class people can access to our technology.>, <Sentence: I am certain that we are able to be on the side with technology that is brought from abroad to our region, being sold in a very expensive way.>, <Sentence: We have the capacity to develop our own technology, having the necessities of our people in mind.>, <Sentence: So this began as a path for myself, but it now belongs to my entire region.>, <Sentence: Would you like to join us?>, <Sentence: Thank you so much.>, <Sentence: So where are we now?>, <Sentence: We're going to have major breakthroughs in the ability to integrate the whole mind.>, <Sentence: Are we amplifying our energy?>, <Sentence: Are we diminishing our energy?>, <Sentence: Mind, Body, Spirit, a three-part series on the TED Radio Hour from NPR.>, <Sentence: Listen wherever you get your podcasts.>, <Sentence: Leave us a review on Apple podcasts or email us at podcastsatted.com.sub.vtt>)\n"
          ]
        }
      ]
    },
    {
      "cell_type": "markdown",
      "source": [
        "# 7. Summarization using transformers\n",
        "## Summarization using BERT\n",
        " This works by first embedding the sentences, then running a clustering algorithm, finding the sentences that are closest to the cluster's centroids"
      ],
      "metadata": {
        "id": "Xbh8Lpw9QDxM"
      }
    },
    {
      "cell_type": "code",
      "source": [
        " ! pip install bert-extractive-summarizer\n"
      ],
      "metadata": {
        "id": "smZNwf-FQSON"
      },
      "execution_count": null,
      "outputs": []
    },
    {
      "cell_type": "code",
      "source": [
        "\n",
        "from summarizer import Summarizer\n",
        "model1= Summarizer()\n",
        "model = whisper.load_model(\"medium\")\n",
        "\n"
      ],
      "metadata": {
        "colab": {
          "base_uri": "https://localhost:8080/"
        },
        "id": "FUQ0yfJZQW1B",
        "outputId": "166baf84-057d-428b-a986-f814866c700b"
      },
      "execution_count": 30,
      "outputs": [
        {
          "metadata": {
            "tags": null
          },
          "name": "stderr",
          "output_type": "stream",
          "text": [
            "Some weights of the model checkpoint at bert-large-uncased were not used when initializing BertModel: ['cls.seq_relationship.bias', 'cls.predictions.transform.LayerNorm.bias', 'cls.predictions.decoder.weight', 'cls.predictions.transform.LayerNorm.weight', 'cls.seq_relationship.weight', 'cls.predictions.transform.dense.weight', 'cls.predictions.transform.dense.bias', 'cls.predictions.bias']\n",
            "- This IS expected if you are initializing BertModel from the checkpoint of a model trained on another task or with another architecture (e.g. initializing a BertForSequenceClassification model from a BertForPreTraining model).\n",
            "- This IS NOT expected if you are initializing BertModel from the checkpoint of a model that you expect to be exactly identical (initializing a BertForSequenceClassification model from a BertForSequenceClassification model).\n"
          ]
        }
      ]
    },
    {
      "cell_type": "code",
      "source": [
        "def get_bert_summary(link):\n",
        "  transcript= get_transcripts(link)\n",
        "  transcript= ''.join(transcript)\n",
        "  return model1(transcript,ratio=0.5)"
      ],
      "metadata": {
        "id": "7nSSlJLUQfit"
      },
      "execution_count": 31,
      "outputs": []
    },
    {
      "cell_type": "code",
      "source": [
        "bert_summary= get_bert_summary('https://podcasts.google.com/feed/aHR0cHM6Ly9mZWVkczIuZmVlZGJ1cm5lci5jb20vdGVkdGFsa3NfYXVkaW8/episode/ZW4uYXVkaW8udGFsay50ZWQuY29tOjk3NDA4?sa=X&ved=0CAUQkfYCahgKEwiQuOnlr7L6AhUAAAAAHQAAAAAQiwc')\n",
        "print(bert_summary)"
      ],
      "metadata": {
        "colab": {
          "base_uri": "https://localhost:8080/"
        },
        "id": "PMCNv2R_Q7yq",
        "outputId": "fce9040d-6a30-4cd2-fadc-5f248575b76e"
      },
      "execution_count": 39,
      "outputs": [
        {
          "output_type": "stream",
          "name": "stdout",
          "text": [
            "https://backend.endpoints.firstory-709db.cloud.goog/play.mp3?url=https%3A%2F%2Fdts.podtrac.com%2Fredirect.mp3%2Fdownload.ted.com%2Ftalks%2FEnzoRomero_2022U.mp3%3Fapikey%3D172BB350-0207%26prx_url%3Dhttps%3A%2F%2Fchtbl.com%2Ftrack%2F48D18%2Fhttps%3A%2F%2Fdovetail.prxu.org%2F70%2F1ebf1923-1f21-455d-9520-2319f2b9f17c%2FEnzoRomero_2022U_VO_Intro.mp3\n"
          ]
        },
        {
          "output_type": "stream",
          "name": "stderr",
          "text": [
            "/usr/local/lib/python3.9/dist-packages/sklearn/cluster/_kmeans.py:870: FutureWarning: The default value of `n_init` will change from 10 to 'auto' in 1.4. Set the value of `n_init` explicitly to suppress the warning\n",
            "  warnings.warn(\n"
          ]
        },
        {
          "output_type": "stream",
          "name": "stdout",
          "text": [
            "Prosthetics have advanced so much in recent years, but for amputees around the world, they're still often way too expensive. He makes them more affordable and functional. Have you ever wondered what makes great minds tick? I'm Adam Grant, and on my new podcast Rethinking, I'm trying to find the answers. Every week, I interview some of my favorite thinkers to learn how we can bring out the best in ourselves and others. Find Rethinking on Apple Podcasts, Spotify, Amazon Music, or wherever you listen. Since this was a research project, we had enough funding to buy stuff from abroad. So, for example, the motors here were all brought by Switzerland. It is often that people get injured while doing manual labor activities, like farming or metal manufacturing. Getting back to work and having access to money demands a functional hand. It took me time to realize what a huge privilege I had to study a career that would help fulfill my dreams. But actually, what was preventing me from developing a solution that was both affordable and functional? The very first step in order to reduce the cost was to reduce the number of motors, because they were all imported and therefore expensive. This also helps us to reduce the number of electromyographic sensors too. From an arrangement of eight, we pass just to one. In this way, between mixed inner mechanical and myoelectric prosthesis, the prices will be dramatically low. And that's why we choose to 3D print our prosthesis using mainly plastic from recycled bottles. Then we'll recreate the entire set of fingers, the palm, and the prosthesis socket in our computational model to finally 3D print each of those parts. So far, in lab bionics, we have two types of prosthesis. Mach-E, which is a mechanical activation, and Pisco, with electronic activation. Pisco costs just 10% of an imported robotic prosthesis that will come from abroad. For me, this has been a path where I will be able to develop this in my company, lab bionics. I am certain that we are able to be on the side with technology that is brought from abroad to our region, being sold in a very expensive way. So then people with disabilities and limited resources could live a life again. We're going to have major breakthroughs in the ability to integrate the whole mind. Mind, Body, Spirit, a three-part series on the TED Radio Hour from NPR. We record the talks at TED events we host or from TEDx events, which are organized independently by volunteers all over the world. Leave us a review on Apple podcasts or email us at podcastsatted.com.sub.vtt\n"
          ]
        }
      ]
    },
    {
      "cell_type": "markdown",
      "source": [
        "## 8. Summarization using SBERT"
      ],
      "metadata": {
        "id": "nXMqyOd5TMiJ"
      }
    },
    {
      "cell_type": "code",
      "source": [
        "! pip install -U sentence-transformers"
      ],
      "metadata": {
        "colab": {
          "base_uri": "https://localhost:8080/"
        },
        "id": "AsUaXiVXTWJi",
        "outputId": "b8519b7e-6236-4b49-f156-3c0126080034"
      },
      "execution_count": 40,
      "outputs": [
        {
          "output_type": "error",
          "ename": "NotImplementedError",
          "evalue": "ignored",
          "traceback": [
            "\u001b[0;31m---------------------------------------------------------------------------\u001b[0m",
            "\u001b[0;31mNotImplementedError\u001b[0m                       Traceback (most recent call last)",
            "\u001b[0;32m<ipython-input-40-ccbbd05c9d4d>\u001b[0m in \u001b[0;36m<module>\u001b[0;34m\u001b[0m\n\u001b[0;32m----> 1\u001b[0;31m \u001b[0mget_ipython\u001b[0m\u001b[0;34m(\u001b[0m\u001b[0;34m)\u001b[0m\u001b[0;34m.\u001b[0m\u001b[0msystem\u001b[0m\u001b[0;34m(\u001b[0m\u001b[0;34m' pip install -U sentence-transformers'\u001b[0m\u001b[0;34m)\u001b[0m\u001b[0;34m\u001b[0m\u001b[0;34m\u001b[0m\u001b[0m\n\u001b[0m",
            "\u001b[0;32m/usr/local/lib/python3.9/dist-packages/google/colab/_shell.py\u001b[0m in \u001b[0;36msystem\u001b[0;34m(self, *args, **kwargs)\u001b[0m\n\u001b[1;32m     96\u001b[0m       \u001b[0mkwargs\u001b[0m\u001b[0;34m.\u001b[0m\u001b[0mupdate\u001b[0m\u001b[0;34m(\u001b[0m\u001b[0;34m{\u001b[0m\u001b[0;34m'also_return_output'\u001b[0m\u001b[0;34m:\u001b[0m \u001b[0;32mTrue\u001b[0m\u001b[0;34m}\u001b[0m\u001b[0;34m)\u001b[0m\u001b[0;34m\u001b[0m\u001b[0;34m\u001b[0m\u001b[0m\n\u001b[1;32m     97\u001b[0m \u001b[0;34m\u001b[0m\u001b[0m\n\u001b[0;32m---> 98\u001b[0;31m     \u001b[0moutput\u001b[0m \u001b[0;34m=\u001b[0m \u001b[0m_system_commands\u001b[0m\u001b[0;34m.\u001b[0m\u001b[0m_system_compat\u001b[0m\u001b[0;34m(\u001b[0m\u001b[0mself\u001b[0m\u001b[0;34m,\u001b[0m \u001b[0;34m*\u001b[0m\u001b[0margs\u001b[0m\u001b[0;34m,\u001b[0m \u001b[0;34m**\u001b[0m\u001b[0mkwargs\u001b[0m\u001b[0;34m)\u001b[0m  \u001b[0;31m# pylint:disable=protected-access\u001b[0m\u001b[0;34m\u001b[0m\u001b[0;34m\u001b[0m\u001b[0m\n\u001b[0m\u001b[1;32m     99\u001b[0m \u001b[0;34m\u001b[0m\u001b[0m\n\u001b[1;32m    100\u001b[0m     \u001b[0;32mif\u001b[0m \u001b[0mpip_warn\u001b[0m\u001b[0;34m:\u001b[0m\u001b[0;34m\u001b[0m\u001b[0;34m\u001b[0m\u001b[0m\n",
            "\u001b[0;32m/usr/local/lib/python3.9/dist-packages/google/colab/_system_commands.py\u001b[0m in \u001b[0;36m_system_compat\u001b[0;34m(shell, cmd, also_return_output)\u001b[0m\n\u001b[1;32m    451\u001b[0m   \u001b[0;31m# is expected to call this function, thus adding one level of nesting to the\u001b[0m\u001b[0;34m\u001b[0m\u001b[0;34m\u001b[0m\u001b[0m\n\u001b[1;32m    452\u001b[0m   \u001b[0;31m# stack.\u001b[0m\u001b[0;34m\u001b[0m\u001b[0;34m\u001b[0m\u001b[0m\n\u001b[0;32m--> 453\u001b[0;31m   result = _run_command(\n\u001b[0m\u001b[1;32m    454\u001b[0m       \u001b[0mshell\u001b[0m\u001b[0;34m.\u001b[0m\u001b[0mvar_expand\u001b[0m\u001b[0;34m(\u001b[0m\u001b[0mcmd\u001b[0m\u001b[0;34m,\u001b[0m \u001b[0mdepth\u001b[0m\u001b[0;34m=\u001b[0m\u001b[0;36m2\u001b[0m\u001b[0;34m)\u001b[0m\u001b[0;34m,\u001b[0m \u001b[0mclear_streamed_output\u001b[0m\u001b[0;34m=\u001b[0m\u001b[0;32mFalse\u001b[0m\u001b[0;34m\u001b[0m\u001b[0;34m\u001b[0m\u001b[0m\n\u001b[1;32m    455\u001b[0m   )\n",
            "\u001b[0;32m/usr/local/lib/python3.9/dist-packages/google/colab/_system_commands.py\u001b[0m in \u001b[0;36m_run_command\u001b[0;34m(cmd, clear_streamed_output)\u001b[0m\n\u001b[1;32m    165\u001b[0m   \u001b[0mlocale_encoding\u001b[0m \u001b[0;34m=\u001b[0m \u001b[0mlocale\u001b[0m\u001b[0;34m.\u001b[0m\u001b[0mgetpreferredencoding\u001b[0m\u001b[0;34m(\u001b[0m\u001b[0;34m)\u001b[0m\u001b[0;34m\u001b[0m\u001b[0;34m\u001b[0m\u001b[0m\n\u001b[1;32m    166\u001b[0m   \u001b[0;32mif\u001b[0m \u001b[0mlocale_encoding\u001b[0m \u001b[0;34m!=\u001b[0m \u001b[0m_ENCODING\u001b[0m\u001b[0;34m:\u001b[0m\u001b[0;34m\u001b[0m\u001b[0;34m\u001b[0m\u001b[0m\n\u001b[0;32m--> 167\u001b[0;31m     raise NotImplementedError(\n\u001b[0m\u001b[1;32m    168\u001b[0m         \u001b[0;34m'A UTF-8 locale is required. Got {}'\u001b[0m\u001b[0;34m.\u001b[0m\u001b[0mformat\u001b[0m\u001b[0;34m(\u001b[0m\u001b[0mlocale_encoding\u001b[0m\u001b[0;34m)\u001b[0m\u001b[0;34m\u001b[0m\u001b[0;34m\u001b[0m\u001b[0m\n\u001b[1;32m    169\u001b[0m     )\n",
            "\u001b[0;31mNotImplementedError\u001b[0m: A UTF-8 locale is required. Got ANSI_X3.4-1968"
          ]
        }
      ]
    },
    {
      "cell_type": "code",
      "source": [
        "from summarizer.sbert import SBertSummarizer\n",
        "model1 = SBertSummarizer('paraphrase-MiniLM-L6-v2')\n",
        "model = whisper.load_model(\"medium\")\n",
        "\n"
      ],
      "metadata": {
        "id": "5v8aPw2uTXas"
      },
      "execution_count": 41,
      "outputs": []
    },
    {
      "cell_type": "code",
      "source": [
        "def get_sbert_summary(link):\n",
        "  transcript= get_transcripts(link)\n",
        "  transcript= ''.join(transcript)\n",
        "  return model1(transcript, ratio=0.5)"
      ],
      "metadata": {
        "id": "1MUtEfFTTpWT"
      },
      "execution_count": 42,
      "outputs": []
    },
    {
      "cell_type": "code",
      "source": [
        "sbert_summary= get_sbert_summary('https://podcasts.google.com/feed/aHR0cHM6Ly9mZWVkczIuZmVlZGJ1cm5lci5jb20vdGVkdGFsa3NfYXVkaW8/episode/ZW4uYXVkaW8udGFsay50ZWQuY29tOjk3NDA4?sa=X&ved=0CAUQkfYCahgKEwiQuOnlr7L6AhUAAAAAHQAAAAAQiwc')\n",
        "print(sbert_summary)"
      ],
      "metadata": {
        "colab": {
          "base_uri": "https://localhost:8080/"
        },
        "id": "EU8t3jqpHqyR",
        "outputId": "3d07f9d1-c048-46f9-8d57-9bffd3f94fc7"
      },
      "execution_count": 43,
      "outputs": [
        {
          "output_type": "stream",
          "name": "stdout",
          "text": [
            "https://backend.endpoints.firstory-709db.cloud.goog/play.mp3?url=https%3A%2F%2Fdts.podtrac.com%2Fredirect.mp3%2Fdownload.ted.com%2Ftalks%2FEnzoRomero_2022U.mp3%3Fapikey%3D172BB350-0207%26prx_url%3Dhttps%3A%2F%2Fchtbl.com%2Ftrack%2F48D18%2Fhttps%3A%2F%2Fdovetail.prxu.org%2F70%2F1ebf1923-1f21-455d-9520-2319f2b9f17c%2FEnzoRomero_2022U_VO_Intro.mp3\n"
          ]
        },
        {
          "output_type": "stream",
          "name": "stderr",
          "text": [
            "/usr/local/lib/python3.9/dist-packages/sklearn/cluster/_kmeans.py:870: FutureWarning: The default value of `n_init` will change from 10 to 'auto' in 1.4. Set the value of `n_init` explicitly to suppress the warning\n",
            "  warnings.warn(\n"
          ]
        },
        {
          "output_type": "stream",
          "name": "stdout",
          "text": [
            "Prosthetics have advanced so much in recent years, but for amputees around the world, they're still often way too expensive. He makes them more affordable and functional. Have you ever wondered what makes great minds tick? I'm Adam Grant, and on my new podcast Rethinking, I'm trying to find the answers. One in seven people around the world has some kind of disability. I was fortunate to grow in the sacred valley of the Incas in Cusco, Peru, surrounded by people who weren't surprised to see me driving my bike or probably playing basketball. But then being twice as stunned when the medical robots fitted in with a prosthesis that could move and feel. I was able to move each finger individually, and also we developed a way in which we get to pass the sensation from the fingertips into my forearm using haptic feedback system. Since this was a research project, we had enough funding to buy stuff from abroad. So, for example, the motors here were all brought by Switzerland. Even the $25,000 that costs a robotic prosthesis imported from abroad is way too much. In Peru, that is equivalent to work full-time on a minimum wage for almost seven years just to buy the prosthesis, never mind pay for your food or your house. Getting back to work and having access to money demands a functional hand. It took me time to realize what a huge privilege I had to study a career that would help fulfill my dreams. The very first step in order to reduce the cost was to reduce the number of motors, because they were all imported and therefore expensive. From an arrangement of eight, we pass just to one. And that's why we choose to 3D print our prosthesis using mainly plastic from recycled bottles. Mach-E, which is a mechanical activation, and Pisco, with electronic activation. This means that even more working class people can access to our technology. For me, this has been a path where I will be able to develop this in my company, lab bionics. So for example, take Franco, which now is using his transradial Mach-E prosthesis in order to get back to work with his providers on the jungle farm he has. The same astonishment which I had when I saw Luke Skywalker's prosthesis. For millennia, we have debated the link between our mental, physical and spiritual health. We're going to have major breakthroughs in the ability to integrate the whole mind. What does consenting look, feel and sound like for me? And how do I recognize that in other people? TED Talks Daily is hosted by me, Elise Huw, and produced by TED. Leave us a review on Apple podcasts or email us at podcastsatted.com.sub.vtt\n"
          ]
        }
      ]
    },
    {
      "cell_type": "markdown",
      "source": [
        "# Analysing the generated summary using Rogue score & Bleu\n",
        "\n",
        "## 1. Genism(Text rank algorithm)"
      ],
      "metadata": {
        "id": "zo7Edq9dH6hg"
      }
    },
    {
      "cell_type": "code",
      "source": [
        "!pip install rouge\n",
        "!pip install nltk\n"
      ],
      "metadata": {
        "id": "6trSGpuSIENz"
      },
      "execution_count": null,
      "outputs": []
    },
    {
      "cell_type": "code",
      "source": [
        "from rouge import Rouge\n",
        "from nltk.translate.bleu_score import sentence_bleu\n"
      ],
      "metadata": {
        "id": "ruaOVC64IFwl"
      },
      "execution_count": 45,
      "outputs": []
    },
    {
      "cell_type": "code",
      "source": [
        "transcripts= get_transcripts('https://podcasts.google.com/feed/aHR0cHM6Ly9mZWVkczIuZmVlZGJ1cm5lci5jb20vdGVkdGFsa3NfYXVkaW8/episode/ZW4uYXVkaW8udGFsay50ZWQuY29tOjk3NDA4?sa=X&ved=0CAUQkfYCahgKEwiQuOnlr7L6AhUAAAAAHQAAAAAQiwc')\n",
        "original_text= ''.join(transcripts)\n",
        "text_tokens = nltk.word_tokenize(original_text)\n"
      ],
      "metadata": {
        "colab": {
          "base_uri": "https://localhost:8080/"
        },
        "id": "OZIoUSxYISIN",
        "outputId": "63981f5f-cc8d-4fae-a7d0-015e1e73e56d"
      },
      "execution_count": 47,
      "outputs": [
        {
          "output_type": "stream",
          "name": "stdout",
          "text": [
            "https://backend.endpoints.firstory-709db.cloud.goog/play.mp3?url=https%3A%2F%2Fdts.podtrac.com%2Fredirect.mp3%2Fdownload.ted.com%2Ftalks%2FEnzoRomero_2022U.mp3%3Fapikey%3D172BB350-0207%26prx_url%3Dhttps%3A%2F%2Fchtbl.com%2Ftrack%2F48D18%2Fhttps%3A%2F%2Fdovetail.prxu.org%2F70%2F1ebf1923-1f21-455d-9520-2319f2b9f17c%2FEnzoRomero_2022U_VO_Intro.mp3\n"
          ]
        }
      ]
    },
    {
      "cell_type": "code",
      "source": [
        "len(original_text.split('.'))"
      ],
      "metadata": {
        "id": "xSdi1Vb2MPfI"
      },
      "execution_count": null,
      "outputs": []
    },
    {
      "cell_type": "code",
      "source": [
        "textrank_summary= get_textrank_summary('https://podcasts.google.com/feed/aHR0cHM6Ly9mZWVkczIuZmVlZGJ1cm5lci5jb20vdGVkdGFsa3NfYXVkaW8/episode/ZW4uYXVkaW8udGFsay50ZWQuY29tOjk3NDA4?sa=X&ved=0CAUQkfYCahgKEwiQuOnlr7L6AhUAAAAAHQAAAAAQiwc')\n"
      ],
      "metadata": {
        "colab": {
          "base_uri": "https://localhost:8080/"
        },
        "id": "QhsfvfV8JyBn",
        "outputId": "f16512b7-0f0c-4d97-a0eb-611f31d2bf63"
      },
      "execution_count": 48,
      "outputs": [
        {
          "output_type": "stream",
          "name": "stdout",
          "text": [
            "https://backend.endpoints.firstory-709db.cloud.goog/play.mp3?url=https%3A%2F%2Fdts.podtrac.com%2Fredirect.mp3%2Fdownload.ted.com%2Ftalks%2FEnzoRomero_2022U.mp3%3Fapikey%3D172BB350-0207%26prx_url%3Dhttps%3A%2F%2Fchtbl.com%2Ftrack%2F48D18%2Fhttps%3A%2F%2Fdovetail.prxu.org%2F70%2F1ebf1923-1f21-455d-9520-2319f2b9f17c%2FEnzoRomero_2022U_VO_Intro.mp3\n"
          ]
        }
      ]
    },
    {
      "cell_type": "code",
      "source": [
        "summary_tokens = nltk.word_tokenize(textrank_summary)\n",
        "\n",
        "# Initialize the ROUGE evaluator\n",
        "rouge = Rouge()\n",
        "\n",
        "# Calculate the ROUGE scores\n",
        "scores = rouge.get_scores(' '.join(summary_tokens), ' '.join(text_tokens))\n",
        "\n",
        "# Print the ROUGE scores\n",
        "print('ROUGE-1: {}'.format(scores[0]['rouge-1']['f']))\n",
        "print('ROUGE-2: {}'.format(scores[0]['rouge-2']['f']))\n",
        "print('ROUGE-L: {}'.format(scores[0]['rouge-l']['f']))"
      ],
      "metadata": {
        "colab": {
          "base_uri": "https://localhost:8080/"
        },
        "id": "hc8Z_1yJKAE2",
        "outputId": "f7518188-aad4-4fde-90da-748b742846f4"
      },
      "execution_count": 49,
      "outputs": [
        {
          "output_type": "stream",
          "name": "stdout",
          "text": [
            "ROUGE-1: 0.7686746940627378\n",
            "ROUGE-2: 0.714457826689476\n",
            "ROUGE-L: 0.7686746940627378\n"
          ]
        }
      ]
    },
    {
      "cell_type": "markdown",
      "source": [
        "## 3. LSA"
      ],
      "metadata": {
        "id": "SwJR9tHlKtj2"
      }
    },
    {
      "cell_type": "code",
      "source": [
        "lsa_summary= get_lsa_summary('https://podcasts.google.com/feed/aHR0cHM6Ly9mZWVkczIuZmVlZGJ1cm5lci5jb20vdGVkdGFsa3NfYXVkaW8/episode/ZW4uYXVkaW8udGFsay50ZWQuY29tOjk3NDA4?sa=X&ved=0CAUQkfYCahgKEwiQuOnlr7L6AhUAAAAAHQAAAAAQiwc')\n"
      ],
      "metadata": {
        "colab": {
          "base_uri": "https://localhost:8080/"
        },
        "id": "vT5cB9XVLd6j",
        "outputId": "2e81e65b-7533-4d71-adf3-808810c8812c"
      },
      "execution_count": 50,
      "outputs": [
        {
          "output_type": "stream",
          "name": "stdout",
          "text": [
            "https://backend.endpoints.firstory-709db.cloud.goog/play.mp3?url=https%3A%2F%2Fdts.podtrac.com%2Fredirect.mp3%2Fdownload.ted.com%2Ftalks%2FEnzoRomero_2022U.mp3%3Fapikey%3D172BB350-0207%26prx_url%3Dhttps%3A%2F%2Fchtbl.com%2Ftrack%2F48D18%2Fhttps%3A%2F%2Fdovetail.prxu.org%2F70%2F1ebf1923-1f21-455d-9520-2319f2b9f17c%2FEnzoRomero_2022U_VO_Intro.mp3\n"
          ]
        }
      ]
    },
    {
      "cell_type": "code",
      "source": [
        "summary_tokens = nltk.word_tokenize(lsa_summary)\n",
        "\n",
        "# Initialize the ROUGE evaluator\n",
        "rouge = Rouge()\n",
        "\n",
        "# Calculate the ROUGE scores\n",
        "scores = rouge.get_scores(' '.join(summary_tokens), ' '.join(text_tokens))\n",
        "\n",
        "# Print the ROUGE scores\n",
        "print('ROUGE-1: {}'.format(scores[0]['rouge-1']['f']))\n",
        "print('ROUGE-2: {}'.format(scores[0]['rouge-2']['f']))\n",
        "print('ROUGE-L: {}'.format(scores[0]['rouge-l']['f']))"
      ],
      "metadata": {
        "colab": {
          "base_uri": "https://localhost:8080/"
        },
        "id": "ujc6mbzYK_-k",
        "outputId": "7317537a-17b0-4520-b503-449807212ae3"
      },
      "execution_count": 51,
      "outputs": [
        {
          "output_type": "stream",
          "name": "stdout",
          "text": [
            "ROUGE-1: 0.7920560699543903\n",
            "ROUGE-2: 0.6863905278502574\n",
            "ROUGE-L: 0.7920560699543903\n"
          ]
        }
      ]
    },
    {
      "cell_type": "markdown",
      "source": [
        "## 4.LexRank"
      ],
      "metadata": {
        "id": "M1EkUmTKL_y7"
      }
    },
    {
      "cell_type": "code",
      "source": [
        "lexrank_summary= get_lexrank_summary('https://podcasts.google.com/feed/aHR0cHM6Ly9mZWVkczIuZmVlZGJ1cm5lci5jb20vdGVkdGFsa3NfYXVkaW8/episode/ZW4uYXVkaW8udGFsay50ZWQuY29tOjk3NDA4?sa=X&ved=0CAUQkfYCahgKEwiQuOnlr7L6AhUAAAAAHQAAAAAQiwc')\n"
      ],
      "metadata": {
        "colab": {
          "base_uri": "https://localhost:8080/"
        },
        "id": "z8gykgW6NcAX",
        "outputId": "e47f5b52-12c4-4156-f9b5-fdcf96642ca6"
      },
      "execution_count": 52,
      "outputs": [
        {
          "output_type": "stream",
          "name": "stdout",
          "text": [
            "https://backend.endpoints.firstory-709db.cloud.goog/play.mp3?url=https%3A%2F%2Fdts.podtrac.com%2Fredirect.mp3%2Fdownload.ted.com%2Ftalks%2FEnzoRomero_2022U.mp3%3Fapikey%3D172BB350-0207%26prx_url%3Dhttps%3A%2F%2Fchtbl.com%2Ftrack%2F48D18%2Fhttps%3A%2F%2Fdovetail.prxu.org%2F70%2F1ebf1923-1f21-455d-9520-2319f2b9f17c%2FEnzoRomero_2022U_VO_Intro.mp3\n"
          ]
        }
      ]
    },
    {
      "cell_type": "code",
      "source": [
        "summary_tokens = nltk.word_tokenize(lexrank_summary)\n",
        "\n",
        "# Initialize the ROUGE evaluator\n",
        "rouge = Rouge()\n",
        "\n",
        "# Calculate the ROUGE scores\n",
        "scores = rouge.get_scores(' '.join(summary_tokens), ' '.join(text_tokens))\n",
        "\n",
        "# Print the ROUGE scores\n",
        "print('ROUGE-1: {}'.format(scores[0]['rouge-1']['f']))\n",
        "print('ROUGE-2: {}'.format(scores[0]['rouge-2']['f']))\n",
        "print('ROUGE-L: {}'.format(scores[0]['rouge-l']['f']))"
      ],
      "metadata": {
        "colab": {
          "base_uri": "https://localhost:8080/"
        },
        "id": "q0dtfvT_NW3c",
        "outputId": "a9d24126-1fdb-41a4-ab99-93537cbfd54c"
      },
      "execution_count": 53,
      "outputs": [
        {
          "output_type": "stream",
          "name": "stdout",
          "text": [
            "ROUGE-1: 0.7058823483306574\n",
            "ROUGE-2: 0.6150966891955468\n",
            "ROUGE-L: 0.7058823483306574\n"
          ]
        }
      ]
    },
    {
      "cell_type": "markdown",
      "source": [
        "## 5.Luhn"
      ],
      "metadata": {
        "id": "em9zZ4wZP8qG"
      }
    },
    {
      "cell_type": "code",
      "source": [
        "luhn_summary= get_luhn_summary('https://podcasts.google.com/feed/aHR0cHM6Ly9mZWVkczIuZmVlZGJ1cm5lci5jb20vdGVkdGFsa3NfYXVkaW8/episode/ZW4uYXVkaW8udGFsay50ZWQuY29tOjk3NDA4?sa=X&ved=0CAUQkfYCahgKEwiQuOnlr7L6AhUAAAAAHQAAAAAQiwc')\n"
      ],
      "metadata": {
        "id": "BeLWvf0EQemW"
      },
      "execution_count": null,
      "outputs": []
    },
    {
      "cell_type": "code",
      "source": [
        "summary_tokens = nltk.word_tokenize(luhn_summary)\n",
        "\n",
        "# Initialize the ROUGE evaluator\n",
        "rouge = Rouge()\n",
        "\n",
        "# Calculate the ROUGE scores\n",
        "scores = rouge.get_scores(' '.join(summary_tokens), ' '.join(text_tokens))\n",
        "\n",
        "# Print the ROUGE scores\n",
        "print('ROUGE-1: {}'.format(scores[0]['rouge-1']['f']))\n",
        "print('ROUGE-2: {}'.format(scores[0]['rouge-2']['f']))\n",
        "print('ROUGE-L: {}'.format(scores[0]['rouge-l']['f']))"
      ],
      "metadata": {
        "colab": {
          "base_uri": "https://localhost:8080/"
        },
        "id": "okdpD52DQfvR",
        "outputId": "5255eb03-b1c1-4575-f298-ebd2809ee41b"
      },
      "execution_count": 54,
      "outputs": [
        {
          "output_type": "stream",
          "name": "stdout",
          "text": [
            "ROUGE-1: 0.7878077325936871\n",
            "ROUGE-2: 0.7249712265269528\n",
            "ROUGE-L: 0.7878077325936871\n"
          ]
        }
      ]
    },
    {
      "cell_type": "markdown",
      "source": [
        "## 6. KL_Sum"
      ],
      "metadata": {
        "id": "OgzHpHCRQuWQ"
      }
    },
    {
      "cell_type": "code",
      "source": [
        "kl_summary= get_klsum_summary('https://podcasts.google.com/feed/aHR0cHM6Ly9mZWVkczIuZmVlZGJ1cm5lci5jb20vdGVkdGFsa3NfYXVkaW8/episode/ZW4uYXVkaW8udGFsay50ZWQuY29tOjk3NDA4?sa=X&ved=0CAUQkfYCahgKEwiQuOnlr7L6AhUAAAAAHQAAAAAQiwc')\n"
      ],
      "metadata": {
        "colab": {
          "base_uri": "https://localhost:8080/"
        },
        "id": "woTs6QICQxqb",
        "outputId": "df00704b-6b1f-4515-b127-f59b34e7c0d0"
      },
      "execution_count": 55,
      "outputs": [
        {
          "output_type": "stream",
          "name": "stdout",
          "text": [
            "https://backend.endpoints.firstory-709db.cloud.goog/play.mp3?url=https%3A%2F%2Fdts.podtrac.com%2Fredirect.mp3%2Fdownload.ted.com%2Ftalks%2FEnzoRomero_2022U.mp3%3Fapikey%3D172BB350-0207%26prx_url%3Dhttps%3A%2F%2Fchtbl.com%2Ftrack%2F48D18%2Fhttps%3A%2F%2Fdovetail.prxu.org%2F70%2F1ebf1923-1f21-455d-9520-2319f2b9f17c%2FEnzoRomero_2022U_VO_Intro.mp3\n"
          ]
        }
      ]
    },
    {
      "cell_type": "code",
      "source": [
        "summary_tokens = nltk.word_tokenize(kl_summary)\n",
        "\n",
        "# Initialize the ROUGE evaluator\n",
        "rouge = Rouge()\n",
        "\n",
        "# Calculate the ROUGE scores\n",
        "scores = rouge.get_scores(' '.join(summary_tokens), ' '.join(text_tokens))\n",
        "\n",
        "# Print the ROUGE scores\n",
        "print('ROUGE-1: {}'.format(scores[0]['rouge-1']['f']))\n",
        "print('ROUGE-2: {}'.format(scores[0]['rouge-2']['f']))\n",
        "print('ROUGE-L: {}'.format(scores[0]['rouge-l']['f']))"
      ],
      "metadata": {
        "colab": {
          "base_uri": "https://localhost:8080/"
        },
        "id": "u20axDgLQx2y",
        "outputId": "dc3880cb-5184-45b7-bf00-41e79bf35deb"
      },
      "execution_count": 56,
      "outputs": [
        {
          "output_type": "stream",
          "name": "stdout",
          "text": [
            "ROUGE-1: 0.6268260248545614\n",
            "ROUGE-2: 0.5127859985678083\n",
            "ROUGE-L: 0.6268260248545614\n"
          ]
        }
      ]
    },
    {
      "cell_type": "markdown",
      "source": [
        "## 7. BERT "
      ],
      "metadata": {
        "id": "RFSR15R3RM9v"
      }
    },
    {
      "cell_type": "code",
      "source": [
        "bert_summary= get_bert_summary('https://podcasts.google.com/feed/aHR0cHM6Ly9mZWVkczIuZmVlZGJ1cm5lci5jb20vdGVkdGFsa3NfYXVkaW8/episode/ZW4uYXVkaW8udGFsay50ZWQuY29tOjk3NDA4?sa=X&ved=0CAUQkfYCahgKEwiQuOnlr7L6AhUAAAAAHQAAAAAQiwc')\n"
      ],
      "metadata": {
        "colab": {
          "base_uri": "https://localhost:8080/"
        },
        "id": "q9okCrUKRQRs",
        "outputId": "104b5bd7-fa65-464c-fd7e-a0e804ec4772"
      },
      "execution_count": 57,
      "outputs": [
        {
          "output_type": "stream",
          "name": "stdout",
          "text": [
            "https://backend.endpoints.firstory-709db.cloud.goog/play.mp3?url=https%3A%2F%2Fdts.podtrac.com%2Fredirect.mp3%2Fdownload.ted.com%2Ftalks%2FEnzoRomero_2022U.mp3%3Fapikey%3D172BB350-0207%26prx_url%3Dhttps%3A%2F%2Fchtbl.com%2Ftrack%2F48D18%2Fhttps%3A%2F%2Fdovetail.prxu.org%2F70%2F1ebf1923-1f21-455d-9520-2319f2b9f17c%2FEnzoRomero_2022U_VO_Intro.mp3\n"
          ]
        },
        {
          "output_type": "stream",
          "name": "stderr",
          "text": [
            "/usr/local/lib/python3.9/dist-packages/sklearn/cluster/_kmeans.py:870: FutureWarning: The default value of `n_init` will change from 10 to 'auto' in 1.4. Set the value of `n_init` explicitly to suppress the warning\n",
            "  warnings.warn(\n"
          ]
        }
      ]
    },
    {
      "cell_type": "code",
      "source": [
        "bert_summary"
      ],
      "metadata": {
        "id": "mDmFXkUC2Q4-"
      },
      "execution_count": null,
      "outputs": []
    },
    {
      "cell_type": "code",
      "source": [
        "summary_tokens = nltk.word_tokenize(bert_summary)\n",
        "\n",
        "# Initialize the ROUGE evaluator\n",
        "rouge = Rouge()\n",
        "\n",
        "# Calculate the ROUGE scores\n",
        "scores = rouge.get_scores(' '.join(summary_tokens), ' '.join(text_tokens))\n",
        "\n",
        "# Print the ROUGE scores\n",
        "print('ROUGE-1: {}'.format(scores[0]['rouge-1']['f']))\n",
        "print('ROUGE-2: {}'.format(scores[0]['rouge-2']['f']))\n",
        "print('ROUGE-L: {}'.format(scores[0]['rouge-l']['f']))"
      ],
      "metadata": {
        "colab": {
          "base_uri": "https://localhost:8080/"
        },
        "id": "nfJQJ2XORQWo",
        "outputId": "c19e6499-8925-4687-f2ff-26cb92d2f0c0"
      },
      "execution_count": 58,
      "outputs": [
        {
          "output_type": "stream",
          "name": "stdout",
          "text": [
            "ROUGE-1: 0.7063291093552636\n",
            "ROUGE-2: 0.5935653273201068\n",
            "ROUGE-L: 0.7063291093552636\n"
          ]
        }
      ]
    },
    {
      "cell_type": "markdown",
      "source": [
        "## 8. SBERT"
      ],
      "metadata": {
        "id": "Zh3l7QyX3ZoD"
      }
    },
    {
      "cell_type": "markdown",
      "source": [],
      "metadata": {
        "id": "Xs7IpVCSSmSD"
      }
    },
    {
      "cell_type": "code",
      "source": [
        "sbert_summary= get_sbert_summary('https://podcasts.google.com/feed/aHR0cHM6Ly9mZWVkczIuZmVlZGJ1cm5lci5jb20vdGVkdGFsa3NfYXVkaW8/episode/ZW4uYXVkaW8udGFsay50ZWQuY29tOjk3NDA4?sa=X&ved=0CAUQkfYCahgKEwiQuOnlr7L6AhUAAAAAHQAAAAAQiwc')\n"
      ],
      "metadata": {
        "colab": {
          "base_uri": "https://localhost:8080/"
        },
        "id": "tssu803B3fbo",
        "outputId": "9dc4cc74-98b5-49d6-cb6c-928e56164eb8"
      },
      "execution_count": 59,
      "outputs": [
        {
          "output_type": "stream",
          "name": "stdout",
          "text": [
            "https://backend.endpoints.firstory-709db.cloud.goog/play.mp3?url=https%3A%2F%2Fdts.podtrac.com%2Fredirect.mp3%2Fdownload.ted.com%2Ftalks%2FEnzoRomero_2022U.mp3%3Fapikey%3D172BB350-0207%26prx_url%3Dhttps%3A%2F%2Fchtbl.com%2Ftrack%2F48D18%2Fhttps%3A%2F%2Fdovetail.prxu.org%2F70%2F1ebf1923-1f21-455d-9520-2319f2b9f17c%2FEnzoRomero_2022U_VO_Intro.mp3\n"
          ]
        },
        {
          "output_type": "stream",
          "name": "stderr",
          "text": [
            "/usr/local/lib/python3.9/dist-packages/sklearn/cluster/_kmeans.py:870: FutureWarning: The default value of `n_init` will change from 10 to 'auto' in 1.4. Set the value of `n_init` explicitly to suppress the warning\n",
            "  warnings.warn(\n"
          ]
        }
      ]
    },
    {
      "cell_type": "code",
      "source": [
        "summary_tokens = nltk.word_tokenize(sbert_summary)\n",
        "\n",
        "# Initialize the ROUGE evaluator\n",
        "rouge = Rouge()\n",
        "\n",
        "# Calculate the ROUGE scores\n",
        "scores = rouge.get_scores(' '.join(summary_tokens), ' '.join(text_tokens))\n",
        "\n",
        "# Print the ROUGE scores\n",
        "print('ROUGE-1: {}'.format(scores[0]['rouge-1']['f']))\n",
        "print('ROUGE-2: {}'.format(scores[0]['rouge-2']['f']))\n",
        "print('ROUGE-L: {}'.format(scores[0]['rouge-l']['f']))"
      ],
      "metadata": {
        "colab": {
          "base_uri": "https://localhost:8080/"
        },
        "id": "2JAluR4X3jXQ",
        "outputId": "9f5d1613-19d4-49ea-8bab-9474daec327e"
      },
      "execution_count": 60,
      "outputs": [
        {
          "output_type": "stream",
          "name": "stdout",
          "text": [
            "ROUGE-1: 0.7063291093552636\n",
            "ROUGE-2: 0.5935653273201068\n",
            "ROUGE-L: 0.7063291093552636\n"
          ]
        }
      ]
    }
  ]
}