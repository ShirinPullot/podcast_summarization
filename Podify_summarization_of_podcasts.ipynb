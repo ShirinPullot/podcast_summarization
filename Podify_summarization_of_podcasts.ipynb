{
  "nbformat": 4,
  "nbformat_minor": 0,
  "metadata": {
    "colab": {
      "provenance": [],
      "include_colab_link": true
    },
    "kernelspec": {
      "name": "python3",
      "display_name": "Python 3"
    },
    "language_info": {
      "name": "python"
    },
    "accelerator": "GPU",
    "gpuClass": "standard"
  },
  "cells": [
    {
      "cell_type": "markdown",
      "metadata": {
        "id": "view-in-github",
        "colab_type": "text"
      },
      "source": [
        "<a href=\"https://colab.research.google.com/github/ShirinPullot/podcast_summarization/blob/main/Podify_summarization_of_podcasts.ipynb\" target=\"_parent\"><img src=\"https://colab.research.google.com/assets/colab-badge.svg\" alt=\"Open In Colab\"/></a>"
      ]
    },
    {
      "cell_type": "code",
      "source": [
        "!nvidia-smi"
      ],
      "metadata": {
        "colab": {
          "base_uri": "https://localhost:8080/"
        },
        "id": "JCKjkhPnlgJO",
        "outputId": "0c19d04a-fedc-4fa1-cd9b-bc4a066c45b5"
      },
      "execution_count": 1,
      "outputs": [
        {
          "output_type": "stream",
          "name": "stdout",
          "text": [
            "Thu Mar 16 11:51:08 2023       \n",
            "+-----------------------------------------------------------------------------+\n",
            "| NVIDIA-SMI 525.85.12    Driver Version: 525.85.12    CUDA Version: 12.0     |\n",
            "|-------------------------------+----------------------+----------------------+\n",
            "| GPU  Name        Persistence-M| Bus-Id        Disp.A | Volatile Uncorr. ECC |\n",
            "| Fan  Temp  Perf  Pwr:Usage/Cap|         Memory-Usage | GPU-Util  Compute M. |\n",
            "|                               |                      |               MIG M. |\n",
            "|===============================+======================+======================|\n",
            "|   0  Tesla T4            Off  | 00000000:00:04.0 Off |                    0 |\n",
            "| N/A   67C    P0    28W /  70W |      0MiB / 15360MiB |      0%      Default |\n",
            "|                               |                      |                  N/A |\n",
            "+-------------------------------+----------------------+----------------------+\n",
            "                                                                               \n",
            "+-----------------------------------------------------------------------------+\n",
            "| Processes:                                                                  |\n",
            "|  GPU   GI   CI        PID   Type   Process name                  GPU Memory |\n",
            "|        ID   ID                                                   Usage      |\n",
            "|=============================================================================|\n",
            "|  No running processes found                                                 |\n",
            "+-----------------------------------------------------------------------------+\n"
          ]
        }
      ]
    },
    {
      "cell_type": "code",
      "source": [
        "! pip uninstall whisper\n",
        "! pip install openai-whisper==20230117"
      ],
      "metadata": {
        "id": "mLUP4L2Jokay",
        "outputId": "e28b8cbf-0bb7-4509-af94-663b876f49ae",
        "colab": {
          "base_uri": "https://localhost:8080/"
        }
      },
      "execution_count": 1,
      "outputs": [
        {
          "output_type": "stream",
          "name": "stdout",
          "text": [
            "\u001b[33mWARNING: Skipping whisper as it is not installed.\u001b[0m\u001b[33m\n",
            "\u001b[0mLooking in indexes: https://pypi.org/simple, https://us-python.pkg.dev/colab-wheels/public/simple/\n",
            "Collecting openai-whisper==20230117\n",
            "  Downloading openai-whisper-20230117.tar.gz (1.2 MB)\n",
            "\u001b[2K     \u001b[90m━━━━━━━━━━━━━━━━━━━━━━━━━━━━━━━━━━━━━━━━\u001b[0m \u001b[32m1.2/1.2 MB\u001b[0m \u001b[31m37.2 MB/s\u001b[0m eta \u001b[36m0:00:00\u001b[0m\n",
            "\u001b[?25h  Preparing metadata (setup.py) ... \u001b[?25l\u001b[?25hdone\n",
            "Requirement already satisfied: numpy in /usr/local/lib/python3.9/dist-packages (from openai-whisper==20230117) (1.22.4)\n",
            "Requirement already satisfied: torch in /usr/local/lib/python3.9/dist-packages (from openai-whisper==20230117) (1.13.1+cu116)\n",
            "Requirement already satisfied: tqdm in /usr/local/lib/python3.9/dist-packages (from openai-whisper==20230117) (4.65.0)\n",
            "Requirement already satisfied: more-itertools in /usr/local/lib/python3.9/dist-packages (from openai-whisper==20230117) (9.1.0)\n",
            "Collecting transformers>=4.19.0\n",
            "  Downloading transformers-4.27.1-py3-none-any.whl (6.7 MB)\n",
            "\u001b[2K     \u001b[90m━━━━━━━━━━━━━━━━━━━━━━━━━━━━━━━━━━━━━━━━\u001b[0m \u001b[32m6.7/6.7 MB\u001b[0m \u001b[31m63.1 MB/s\u001b[0m eta \u001b[36m0:00:00\u001b[0m\n",
            "\u001b[?25hCollecting ffmpeg-python==0.2.0\n",
            "  Downloading ffmpeg_python-0.2.0-py3-none-any.whl (25 kB)\n",
            "Requirement already satisfied: future in /usr/local/lib/python3.9/dist-packages (from ffmpeg-python==0.2.0->openai-whisper==20230117) (0.16.0)\n",
            "Requirement already satisfied: pyyaml>=5.1 in /usr/local/lib/python3.9/dist-packages (from transformers>=4.19.0->openai-whisper==20230117) (6.0)\n",
            "Requirement already satisfied: regex!=2019.12.17 in /usr/local/lib/python3.9/dist-packages (from transformers>=4.19.0->openai-whisper==20230117) (2022.6.2)\n",
            "Collecting tokenizers!=0.11.3,<0.14,>=0.11.1\n",
            "  Downloading tokenizers-0.13.2-cp39-cp39-manylinux_2_17_x86_64.manylinux2014_x86_64.whl (7.6 MB)\n",
            "\u001b[2K     \u001b[90m━━━━━━━━━━━━━━━━━━━━━━━━━━━━━━━━━━━━━━━━\u001b[0m \u001b[32m7.6/7.6 MB\u001b[0m \u001b[31m49.6 MB/s\u001b[0m eta \u001b[36m0:00:00\u001b[0m\n",
            "\u001b[?25hCollecting huggingface-hub<1.0,>=0.11.0\n",
            "  Downloading huggingface_hub-0.13.2-py3-none-any.whl (199 kB)\n",
            "\u001b[2K     \u001b[90m━━━━━━━━━━━━━━━━━━━━━━━━━━━━━━━━━━━━━━\u001b[0m \u001b[32m199.2/199.2 KB\u001b[0m \u001b[31m15.7 MB/s\u001b[0m eta \u001b[36m0:00:00\u001b[0m\n",
            "\u001b[?25hRequirement already satisfied: packaging>=20.0 in /usr/local/lib/python3.9/dist-packages (from transformers>=4.19.0->openai-whisper==20230117) (23.0)\n",
            "Requirement already satisfied: requests in /usr/local/lib/python3.9/dist-packages (from transformers>=4.19.0->openai-whisper==20230117) (2.25.1)\n",
            "Requirement already satisfied: filelock in /usr/local/lib/python3.9/dist-packages (from transformers>=4.19.0->openai-whisper==20230117) (3.9.0)\n",
            "Requirement already satisfied: typing-extensions in /usr/local/lib/python3.9/dist-packages (from torch->openai-whisper==20230117) (4.5.0)\n",
            "Requirement already satisfied: idna<3,>=2.5 in /usr/local/lib/python3.9/dist-packages (from requests->transformers>=4.19.0->openai-whisper==20230117) (2.10)\n",
            "Requirement already satisfied: urllib3<1.27,>=1.21.1 in /usr/local/lib/python3.9/dist-packages (from requests->transformers>=4.19.0->openai-whisper==20230117) (1.26.15)\n",
            "Requirement already satisfied: chardet<5,>=3.0.2 in /usr/local/lib/python3.9/dist-packages (from requests->transformers>=4.19.0->openai-whisper==20230117) (4.0.0)\n",
            "Requirement already satisfied: certifi>=2017.4.17 in /usr/local/lib/python3.9/dist-packages (from requests->transformers>=4.19.0->openai-whisper==20230117) (2022.12.7)\n",
            "Building wheels for collected packages: openai-whisper\n",
            "  Building wheel for openai-whisper (setup.py) ... \u001b[?25l\u001b[?25hdone\n",
            "  Created wheel for openai-whisper: filename=openai_whisper-20230117-py3-none-any.whl size=1178629 sha256=f135761889b0b2b41a8a74242998b74b4ee3bff715ef91d1fa70db1411faa9bf\n",
            "  Stored in directory: /root/.cache/pip/wheels/a5/7d/58/e8e33d698ba51fa30cf9e5473dec24c56bd4893eb4927edc25\n",
            "Successfully built openai-whisper\n",
            "Installing collected packages: tokenizers, ffmpeg-python, huggingface-hub, transformers, openai-whisper\n",
            "Successfully installed ffmpeg-python-0.2.0 huggingface-hub-0.13.2 openai-whisper-20230117 tokenizers-0.13.2 transformers-4.27.1\n"
          ]
        }
      ]
    },
    {
      "cell_type": "code",
      "source": [
        "import re\n",
        "import whisper\n",
        "from whisper.utils import write_vtt\n",
        "import requests\n",
        "import os\n",
        "import nltk\n",
        "import heapq\n",
        "nltk.download('punkt')\n",
        "nltk.download('stopwords')\n",
        "\n",
        "\n"
      ],
      "metadata": {
        "id": "IVzS3KnzdATF",
        "colab": {
          "base_uri": "https://localhost:8080/"
        },
        "outputId": "4dface9d-6f90-4fce-aba0-c69e59936e27"
      },
      "execution_count": 2,
      "outputs": [
        {
          "output_type": "stream",
          "name": "stderr",
          "text": [
            "[nltk_data] Downloading package punkt to /root/nltk_data...\n",
            "[nltk_data]   Unzipping tokenizers/punkt.zip.\n",
            "[nltk_data] Downloading package stopwords to /root/nltk_data...\n",
            "[nltk_data]   Unzipping corpora/stopwords.zip.\n"
          ]
        },
        {
          "output_type": "execute_result",
          "data": {
            "text/plain": [
              "True"
            ]
          },
          "metadata": {},
          "execution_count": 2
        }
      ]
    },
    {
      "cell_type": "markdown",
      "source": [
        "\n",
        "# 1. First step is to get transcripts from podcast link\n"
      ],
      "metadata": {
        "id": "rVhmdnX8-1r2"
      }
    },
    {
      "cell_type": "code",
      "source": [
        "\n",
        "\n",
        "model = whisper.load_model(\"medium\")\n",
        "\n",
        "def get_transcripts(link):\n",
        "  content = requests.get(link)\n",
        "  podcast_url = re.findall(\"(?P<url>\\;https?://[^\\s]+)\", content.text)[0].split(';')[1]\n",
        "  print(podcast_url)\n",
        "  \n",
        "\n",
        "  download = requests.get(podcast_url)\n",
        "\n",
        "  with open('podcast.mp3', 'wb') as f:\n",
        "    f.write(download.content)\n",
        "\n",
        "  result = model.transcribe('podcast.mp3')\n",
        "\n",
        "  with open('sub.vtt', \"w\") as txt:\n",
        "    write_vtt(result[\"segments\"], file=txt)\n",
        "\n",
        "  return (result['text'], 'sub.vtt')\n",
        "\n",
        "  \n",
        "\n",
        "\n"
      ],
      "metadata": {
        "colab": {
          "base_uri": "https://localhost:8080/"
        },
        "id": "AWM2phq8YfzT",
        "outputId": "682170ea-f474-4e14-f197-9313c7f004ab"
      },
      "execution_count": 3,
      "outputs": [
        {
          "output_type": "stream",
          "name": "stderr",
          "text": [
            "100%|██████████████████████████████████████| 1.42G/1.42G [00:10<00:00, 143MiB/s]\n"
          ]
        }
      ]
    },
    {
      "cell_type": "code",
      "source": [
        "transcripts= get_transcripts('https://podcasts.google.com/feed/aHR0cHM6Ly9mZWVkczIuZmVlZGJ1cm5lci5jb20vdGVkdGFsa3NfYXVkaW8/episode/ZW4uYXVkaW8udGFsay50ZWQuY29tOjk3NDA4?sa=X&ved=0CAUQkfYCahgKEwiQuOnlr7L6AhUAAAAAHQAAAAAQiwc')\n",
        "transcript= ''.join(transcripts)"
      ],
      "metadata": {
        "id": "FQ8RplqOec_z",
        "colab": {
          "base_uri": "https://localhost:8080/"
        },
        "outputId": "8ab83805-694c-46b3-ed38-ebf8d54eb9ab"
      },
      "execution_count": 5,
      "outputs": [
        {
          "output_type": "stream",
          "name": "stdout",
          "text": [
            "https://backend.endpoints.firstory-709db.cloud.goog/play.mp3?url=https%3A%2F%2Fdts.podtrac.com%2Fredirect.mp3%2Fdownload.ted.com%2Ftalks%2FEnzoRomero_2022U.mp3%3Fapikey%3D172BB350-0207%26prx_url%3Dhttps%3A%2F%2Fchtbl.com%2Ftrack%2F48D18%2Fhttps%3A%2F%2Fdovetail.prxu.org%2F70%2F1ebf1923-1f21-455d-9520-2319f2b9f17c%2FEnzoRomero_2022U_VO_Intro.mp3\n"
          ]
        }
      ]
    },
    {
      "cell_type": "markdown",
      "source": [
        "\n",
        "# 2.Summarizing the transcripts obtained from the audio files\n",
        "\n",
        "\n",
        "\n",
        "1.  Summarization technique using word frequency and NLTK library:\n",
        "\n"
      ],
      "metadata": {
        "id": "7N1YsrtgGvpD"
      }
    },
    {
      "cell_type": "code",
      "source": [
        "def get_nltk_summary(link):\n",
        "  \n",
        "  transcript= get_transcripts(link)\n",
        "  transcript= ''.join(transcript)\n",
        "  sentence_list = nltk.sent_tokenize(transcript)\n",
        "  stopwords = nltk.corpus.stopwords.words('english')\n",
        "  word_frequencies = {}\n",
        "  for word in nltk.word_tokenize(transcript):\n",
        "      if word not in stopwords:\n",
        "          if word not in word_frequencies.keys():\n",
        "              word_frequencies[word] = 1\n",
        "          else:\n",
        "              word_frequencies[word] += 1\n",
        "  maximum_frequncy = max(word_frequencies.values())\n",
        "  for word in word_frequencies.keys():\n",
        "      word_frequencies[word] = (word_frequencies[word]/maximum_frequncy)\n",
        "  sentence_scores = {}\n",
        "  for sent in sentence_list:\n",
        "      for word in nltk.word_tokenize(sent.lower()):\n",
        "          if word in word_frequencies.keys():\n",
        "              if len(sent.split(' ')) < 30:\n",
        "                  if sent not in sentence_scores.keys():\n",
        "                      sentence_scores[sent] = word_frequencies[word]\n",
        "                  else:\n",
        "                      sentence_scores[sent] += word_frequencies[word]\n",
        "  from pprint import pprint\n",
        "  summary_sentences = heapq.nlargest(15, sentence_scores, key=sentence_scores.get)\n",
        "  summary = ' '.join(summary_sentences)\n",
        "  # pprint( summary)\n",
        "\n",
        "  print('lines in summary: ', len(summary.split('.')))"
      ],
      "metadata": {
        "id": "n2aUsB96qu9n"
      },
      "execution_count": 6,
      "outputs": []
    },
    {
      "cell_type": "markdown",
      "source": [
        "2. Summarization using genism(Text rank algorithm)\n",
        "\n",
        "\n"
      ],
      "metadata": {
        "id": "AWSU4QJIHoLX"
      }
    },
    {
      "cell_type": "code",
      "source": [
        "from gensim.summarization.summarizer import summarize\n",
        "from gensim.summarization import keywords"
      ],
      "metadata": {
        "id": "WlaNlHzOvUSB"
      },
      "execution_count": 7,
      "outputs": []
    },
    {
      "cell_type": "code",
      "source": [
        "def get_textrank_summary(link):\n",
        "  transcript= get_transcripts(link)\n",
        "  transcript= ''.join(transcript)\n",
        "  return (summarize(transcript, ratio=0.4))\n"
      ],
      "metadata": {
        "id": "vCQLE7ORHzs8"
      },
      "execution_count": 15,
      "outputs": []
    },
    {
      "cell_type": "code",
      "source": [
        "x= get_textrank_summary('https://podcasts.google.com/feed/aHR0cHM6Ly9mZWVkczIuZmVlZGJ1cm5lci5jb20vdGVkdGFsa3NfYXVkaW8/episode/ZW4uYXVkaW8udGFsay50ZWQuY29tOjk3NDA4?sa=X&ved=0CAUQkfYCahgKEwiQuOnlr7L6AhUAAAAAHQAAAAAQiwc')\n",
        "x"
      ],
      "metadata": {
        "id": "7PP75EeoSO3t"
      },
      "execution_count": null,
      "outputs": []
    },
    {
      "cell_type": "markdown",
      "source": [
        "3. Summarization using LSA :\n",
        "Latent Semantic Analysis is a unsupervised learning algorithm that can be used for extractive text summarization.\n",
        "\n",
        "It extracts semantically significant sentences by applying singular value decomposition(SVD) to the matrix of term-document frequency."
      ],
      "metadata": {
        "id": "2dPr4FJoSdd7"
      }
    },
    {
      "cell_type": "code",
      "source": [
        "! pip install sumy"
      ],
      "metadata": {
        "id": "Z-uyvdB_qyMe"
      },
      "execution_count": null,
      "outputs": []
    },
    {
      "cell_type": "code",
      "source": [
        "from sumy.summarizers.lsa import LsaSummarizer\n",
        "from sumy.nlp.tokenizers import Tokenizer\n",
        "from sumy.parsers.plaintext import PlaintextParser\n"
      ],
      "metadata": {
        "id": "m17iku0hpi2l"
      },
      "execution_count": 5,
      "outputs": []
    },
    {
      "cell_type": "code",
      "source": [
        "def get_lsa_summary(link):\n",
        "  transcript= get_transcripts(link)\n",
        "  transcript= ''.join(transcript)\n",
        "  parser=PlaintextParser.from_string(transcript,Tokenizer('english'))\n",
        "    # creating the summarizer\n",
        "  lsa_summarizer=LsaSummarizer()\n",
        "  lsa_summary= lsa_summarizer(parser.document,32)\n",
        "\n",
        "  # Printing the summary\n",
        "  for sentence in lsa_summary:\n",
        "      print(sentence)\n",
        "\n"
      ],
      "metadata": {
        "id": "pHv4w77qqZ20"
      },
      "execution_count": 6,
      "outputs": []
    },
    {
      "cell_type": "code",
      "source": [
        "x= get_lsa_summary('https://podcasts.google.com/feed/aHR0cHM6Ly9mZWVkczIuZmVlZGJ1cm5lci5jb20vdGVkdGFsa3NfYXVkaW8/episode/ZW4uYXVkaW8udGFsay50ZWQuY29tOjk3NDA4?sa=X&ved=0CAUQkfYCahgKEwiQuOnlr7L6AhUAAAAAHQAAAAAQiwc')\n",
        "x"
      ],
      "metadata": {
        "colab": {
          "base_uri": "https://localhost:8080/"
        },
        "id": "UEh29ELnrXGO",
        "outputId": "0ae01d56-b25d-4673-a3f1-36457107f12d"
      },
      "execution_count": 7,
      "outputs": [
        {
          "output_type": "stream",
          "name": "stdout",
          "text": [
            "https://backend.endpoints.firstory-709db.cloud.goog/play.mp3?url=https%3A%2F%2Fdts.podtrac.com%2Fredirect.mp3%2Fdownload.ted.com%2Ftalks%2FEnzoRomero_2022U.mp3%3Fapikey%3D172BB350-0207%26prx_url%3Dhttps%3A%2F%2Fchtbl.com%2Ftrack%2F48D18%2Fhttps%3A%2F%2Fdovetail.prxu.org%2F70%2F1ebf1923-1f21-455d-9520-2319f2b9f17c%2FEnzoRomero_2022U_VO_Intro.mp3\n",
            "Prosthetics have advanced so much in recent years, but for amputees around the world, they're still often way too expensive.\n",
            "In his talk from TED 2022, bionic innovator Enzo Romero shares how he's found unconventional solutions to get more advanced prosthetics to the people who need them.\n",
            "Every week, I interview some of my favorite thinkers to learn how we can bring out the best in ourselves and others.\n",
            "Find Rethinking on Apple podcasts, Spotify, Amazon music, or wherever you listen.\n",
            "One in seven people around the world has some kind of disability.\n",
            "Being born with on my right hand has defined who I am over the past 30 years.\n",
            "I was fortunate to grow in the sacred valley of the Incas in Cusco, Peru, surrounded by people who weren't surprised to see me driving my bike or probably playing basketball.\n",
            "But then being twice as stunned when the medical robots fitted him with a prosthesis that could move and feel.\n",
            "From then on, no greater purpose lived in my mind, which was to have a prosthesis like Luke Skywalker.\n",
            "This dream led me to study mechatronics engineering and access the biomechanics and applied robotics laboratory in Pontifical Catholic University of Peru, where with a multidisciplinary team, we developed a myoelectric prosthesis for long transradial amputation, being me the pilot user.\n",
            "I was able to move each finger individually, and also we developed a way in which we get to pass the sensation from the fingertips into my forearm using haptic feedback system.\n",
            "Since this was a research project, we had enough funding to buy stuff from abroad.\n",
            "So for example, the motors here were all brought by Switzerland.\n",
            "But 40K is way too much, considering that four out of five people with upper limb amputation live in development countries.\n",
            "Even the $25,000 that costs a robotic prosthesis imported from abroad is way too much.\n",
            "In Peru, that is equivalent to work full time on a minimum wage for almost seven years just to buy the prosthesis, never mind pay for your food or your house.\n",
            "It is often that people get injured while doing manual labor activities like farming or metal manufacturing.\n",
            "So we get to arrange occupational focus groups with our amputee volunteers in order to identify which gestures they will use the most and of those, how many we could perform using just a single motor.\n",
            "This also helps us to reduce the number of electromyographic sensors too.\n",
            "In this way, between mixed inner mechanical and myoelectric prosthesis, the prices will be dramatically low.\n",
            "And that's why we choose to 3D print our prosthesis using mainly plastic from recycled bottles.\n",
            "In order to develop our prosthesis, the process will go like this.\n",
            "So far, in lab bionics, we have two types of prosthesis.\n",
            "Pisco costs just 10% of an imported robotic prosthesis that will come from abroad.\n",
            "This means that even more working class people can access to our technology.\n",
            "For me, this has been a path where I was able to develop these same things in my company, lab bionics.\n",
            "So for example, take Franco, which now is using his transradial Mach-E prosthesis in order to get back to work with his providers on the jungle farm he has.\n",
            "I am certain that we are able to be on the side with technology that is brought from abroad to our region, being sold in a very expensive way.\n",
            "So then people with disabilities and limited resources could live a life again.\n",
            "So this began as a path for myself, but it now belongs to my entire region.\n",
            "For millennia, we have debated the link between our mental, physical and spiritual health.\n",
            "Mind Body Spirit, a three part series on the TED Radio Hour from NPR.\n"
          ]
        }
      ]
    },
    {
      "cell_type": "markdown",
      "source": [
        "4. Summarization using LexRank:\n",
        "\n",
        "approach of LexRank is that a particular sentence is recommended by other similar sentences and hence is ranked higher.\n",
        "\n",
        "Higher the rank, higher is the priority of being included in the summarized text.\n"
      ],
      "metadata": {
        "id": "hgk-rmLJ6w9P"
      }
    },
    {
      "cell_type": "code",
      "source": [
        "from sumy.parsers.plaintext import PlaintextParser\n",
        "from sumy.nlp.tokenizers import Tokenizer\n",
        "from sumy.summarizers.lex_rank import LexRankSummarizer\n"
      ],
      "metadata": {
        "id": "hR02KafwrnAh"
      },
      "execution_count": 8,
      "outputs": []
    },
    {
      "cell_type": "code",
      "source": [
        "def get_lexrank_summary(link):\n",
        "  transcript= get_transcripts(link)\n",
        "  transcript= ''.join(transcript)\n",
        "  parser=PlaintextParser.from_string(transcript,Tokenizer('english'))\n",
        "    # Creating a summary of 3 sentences.\n",
        "  lex_rank_summarizer = LexRankSummarizer()\n",
        "  lexrank_summary = lex_rank_summarizer(parser.document,sentences_count=32)\n",
        "\n",
        "  # Printing the summary\n",
        "  for sentence in lexrank_summary:\n",
        "    print(sentence)"
      ],
      "metadata": {
        "id": "8WEZjnmH7Ua3"
      },
      "execution_count": 9,
      "outputs": []
    },
    {
      "cell_type": "code",
      "source": [
        "x= get_lexrank_summary('https://podcasts.google.com/feed/aHR0cHM6Ly9mZWVkczIuZmVlZGJ1cm5lci5jb20vdGVkdGFsa3NfYXVkaW8/episode/ZW4uYXVkaW8udGFsay50ZWQuY29tOjk3NDA4?sa=X&ved=0CAUQkfYCahgKEwiQuOnlr7L6AhUAAAAAHQAAAAAQiwc')\n",
        "x"
      ],
      "metadata": {
        "colab": {
          "base_uri": "https://localhost:8080/"
        },
        "id": "DQZoNlaN72gv",
        "outputId": "e246f76e-57d6-48ac-a875-5d50cec389c6"
      },
      "execution_count": 10,
      "outputs": [
        {
          "output_type": "stream",
          "name": "stdout",
          "text": [
            "https://backend.endpoints.firstory-709db.cloud.goog/play.mp3?url=https%3A%2F%2Fdts.podtrac.com%2Fredirect.mp3%2Fdownload.ted.com%2Ftalks%2FEnzoRomero_2022U.mp3%3Fapikey%3D172BB350-0207%26prx_url%3Dhttps%3A%2F%2Fchtbl.com%2Ftrack%2F48D18%2Fhttps%3A%2F%2Fdovetail.prxu.org%2F70%2F1ebf1923-1f21-455d-9520-2319f2b9f17c%2FEnzoRomero_2022U_VO_Intro.mp3\n",
            "It's TED Talks Daily.\n",
            "Prosthetics have advanced so much in recent years, but for amputees around the world, they're still often way too expensive.\n",
            "He makes them more affordable and functional.\n",
            "Most of you aren't just listening right now.\n",
            "But what if you could be saving money by switching to Progressive?\n",
            "Progressive Casualty Insurance Company and Affiliates national average 12-month savings of $698 by new customers surveyed who saved with Progressive between June 2021 and May 2022.\n",
            "Discounts not available in all states and situations.\n",
            "From then on, no greater purpose lived in my mind, which was to have a prosthesis like Luke Skywalker.\n",
            "I was able to move each finger individually, and also we developed a way in which we get to pass the sensation from the fingertips into my forearm using haptic feedback system.\n",
            "This is one of the main reasons why it will cost at least $40,000 to make this prosthesis.\n",
            "But $40,000 is way too much, considering that four out of five people with upper limb amputation live in developing countries.\n",
            "Even the $25,000 that costs a robotic prosthesis imported from abroad is way too much.\n",
            "It is often that people get injured while doing manual labor activities, like farming or metal manufacturing.\n",
            "But actually, what was preventing me from developing a solution that was both affordable and functional?\n",
            "The very first step in order to reduce the cost was to reduce the number of motors, because they were all imported and therefore expensive.\n",
            "So we get to arrange occupational focus groups with our amputee volunteers in order to identify which gestures they will use the most and of those how many we could perform using just a single motor.\n",
            "Pinch, cylindrical and lateral.\n",
            "From an arrangement of eight, we pass just to one.\n",
            "In order to develop our prosthesis, the process will go like this.\n",
            "First, we'll use our 3D scan and our own parameterization software in order to take the measures of the amputated area and the other hand of the user.\n",
            "For me, this has been a path where I was able to develop this in my company, lab Bionics.\n",
            "So for example, take Franco, which now is using his transradial Mackie prosthesis in order to get back to work with his providers on the jungle farm he has.\n",
            "I am certain that we are able to be on the side with technology that is brought from abroad to our region, being sold in a very expensive way.\n",
            "We have the capacity to develop our own technology, having the necessities of our people in mind.\n",
            "For me, when people, our users, get back to work on their places, that look of compassion changed to astonishment.\n",
            "The same astonishment which I had when I saw Luke Skywalker's prosthesis.\n",
            "Would you like to join us?\n",
            "Thank you so much.\n",
            "So where are we now?\n",
            "TED Talks Daily is hosted by me, Elise Huw, and produced by TED.\n",
            "We record the talks at TED events we host or from TEDx events, which are organized independently by volunteers all over the world.\n",
            "Leave us a review on Apple podcasts or email us at podcasts at ted.com.\n"
          ]
        }
      ]
    },
    {
      "cell_type": "markdown",
      "source": [
        "5. Summarization using Luhn:\n",
        "\n",
        "Luhn Summarization algorithm’s approach is based on TF-IDF (Term Frequency-Inverse Document Frequency). It is useful when very low frequent words as well as highly frequent words(stopwords) are both not significant."
      ],
      "metadata": {
        "id": "5NRVAMu-74GB"
      }
    },
    {
      "cell_type": "code",
      "source": [
        "# Import the summarizer\n",
        "from sumy.summarizers.luhn import LuhnSummarizer\n",
        "# Creating the parser\n",
        "from sumy.nlp.tokenizers import Tokenizer\n",
        "from sumy.parsers.plaintext import PlaintextParser"
      ],
      "metadata": {
        "id": "yzjBW1Gs8Do3"
      },
      "execution_count": 13,
      "outputs": []
    },
    {
      "cell_type": "code",
      "source": [
        "def get_luhn_summary(link):\n",
        "  transcript= get_transcripts(link)\n",
        "  transcript= ''.join(transcript)\n",
        "  parser=PlaintextParser.from_string(transcript,Tokenizer('english'))\n",
        "      #  Creating the summarizer\n",
        "  luhn_summarizer=LuhnSummarizer()\n",
        "  luhn_summary=luhn_summarizer(parser.document,sentences_count=32)\n",
        "\n",
        "  # Printing the summary\n",
        "  for sentence in luhn_summary:\n",
        "    print(sentence)"
      ],
      "metadata": {
        "id": "26Uipdc98Y6J"
      },
      "execution_count": 19,
      "outputs": []
    },
    {
      "cell_type": "code",
      "source": [
        "x= get_luhn_summary('https://podcasts.google.com/feed/aHR0cHM6Ly9mZWVkczIuZmVlZGJ1cm5lci5jb20vdGVkdGFsa3NfYXVkaW8/episode/ZW4uYXVkaW8udGFsay50ZWQuY29tOjk3NDA4?sa=X&ved=0CAUQkfYCahgKEwiQuOnlr7L6AhUAAAAAHQAAAAAQiwc')\n",
        "x"
      ],
      "metadata": {
        "colab": {
          "base_uri": "https://localhost:8080/"
        },
        "id": "_UmNlaOF8rOS",
        "outputId": "fb109420-5daa-4a77-c7a5-006fd685bd9c"
      },
      "execution_count": 20,
      "outputs": [
        {
          "output_type": "stream",
          "name": "stdout",
          "text": [
            "https://backend.endpoints.firstory-709db.cloud.goog/play.mp3?url=https%3A%2F%2Fdts.podtrac.com%2Fredirect.mp3%2Fdownload.ted.com%2Ftalks%2FEnzoRomero_2022U.mp3%3Fapikey%3D172BB350-0207%26prx_url%3Dhttps%3A%2F%2Fchtbl.com%2Ftrack%2F48D18%2Fhttps%3A%2F%2Fdovetail.prxu.org%2F70%2F1ebf1923-1f21-455d-9520-2319f2b9f17c%2FEnzoRomero_2022U_VO_Intro.mp3\n",
            "Prosthetics have advanced so much in recent years, but for amputees around the world, they're still often way too expensive.\n",
            "In his talk from TED 2022, bionic innovator Enzo Romero shares how he's found unconventional solutions to get more advanced prosthetics to the people who need them.\n",
            "Drivers who save by switching save nearly $700 on average, and auto customers qualify for an average of seven discounts.\n",
            "Progressive Casualty Insurance Company and Affiliates national average 12-month savings of $698 by new customers surveyed who saved with Progressive between June 2021 and May 2022.\n",
            "One in seven people around the world has some kind of disability.\n",
            "I was fortunate to grow in the sacred valley of the Incas in Cusco, Peru, surrounded by people who weren't surprised to see me driving my bike or probably playing basketball.\n",
            "When I was seven, I remember being stunned after I watched Star Wars, The Empire Strikes Back, when Luke's hand gets cut off, the same one I didn't have, but then being twice as stunned when the medical robots fitted him with a prosthesis that could move and feel.\n",
            "From then on, no greater purpose lived in my mind, which was to have a prosthesis like Luke Skywalker.\n",
            "This dream led me to study mechatronics engineering and access the biomechanics and applied robotics laboratory in Pontifical Catholic University of Peru, where, with a multidisciplinary team, we developed myoelectric prosthesis for long transradial amputation, being me the pilot user.\n",
            "I was able to move each finger individually, and also we developed a way in which we get to pass the sensation from the fingertips into my forearm using haptic feedback system.\n",
            "This is one of the main reasons why it will cost at least $40,000 to make this prosthesis.\n",
            "But $40,000 is way too much, considering that four out of five people with upper limb amputation live in developing countries.\n",
            "Even the $25,000 that costs a robotic prosthesis imported from abroad is way too much.\n",
            "In Peru, that is equivalent to work full time on a minimum wage for almost seven years just to buy the prosthesis, never mind pay for your food or your house.\n",
            "Getting back to work and having access to money demands a functional hand.\n",
            "It took me time to realize what a huge privilege I had to study a career that would help fulfill my dreams.\n",
            "But actually, what was preventing me from developing a solution that was both affordable and functional?\n",
            "The very first step in order to reduce the cost was to reduce the number of motors, because they were all imported and therefore expensive.\n",
            "So we get to arrange occupational focus groups with our amputee volunteers in order to identify which gestures they will use the most and of those how many we could perform using just a single motor.\n",
            "In this way, between mixed inner mechanical and my electric prosthesis, the prices will be dramatically low.\n",
            "First, we'll use our 3D scan and our own parameterization software in order to take the measures of the amputated area and the other hand of the user.\n",
            "Then we'll recreate the entire set of fingers, the palm and the prosthesis socket in our computational model to finally 3D print each of those parts.\n",
            "Mackie, which is a mechanical activation and Pisco with electronic activation.\n",
            "Pisco costs just 10% of an imported robotic prosthesis that will come from abroad.\n",
            "For me, this has been a path where I was able to develop this in my company, lab Bionics.\n",
            "So for example, take Franco, which now is using his transradial Mackie prosthesis in order to get back to work with his providers on the jungle farm he has.\n",
            "I am certain that we are able to be on the side with technology that is brought from abroad to our region, being sold in a very expensive way.\n",
            "We have the capacity to develop our own technology, having the necessities of our people in mind.\n",
            "For me, when people, our users, get back to work on their places, that look of compassion changed to astonishment.\n",
            "The same astonishment which I had when I saw Luke Skywalker's prosthesis.\n",
            "So this began as a path for myself, but it now belongs to my entire region.\n",
            "We record the talks at TED events we host or from TEDx events, which are organized independently by volunteers all over the world.\n"
          ]
        }
      ]
    },
    {
      "cell_type": "markdown",
      "source": [
        "6. Summarization using KL-Sum:\n",
        "\n",
        "Another extractive method is the KL-Sum algorithm.\n",
        "\n",
        "It selects sentences based on similarity of word distribution as the original text. It aims to lower the KL-divergence criteria (learn more). It uses greedy optimization approach and keeps adding sentences till the KL-divergence decreases."
      ],
      "metadata": {
        "id": "IW8A17WD8yHM"
      }
    },
    {
      "cell_type": "code",
      "source": [
        "from sumy.summarizers.kl import KLSummarizer\n",
        "# Creating the parser\n",
        "from sumy.nlp.tokenizers import Tokenizer\n",
        "from sumy.parsers.plaintext import PlaintextParser\n"
      ],
      "metadata": {
        "id": "OUXXPYeU8t7h"
      },
      "execution_count": 16,
      "outputs": []
    },
    {
      "cell_type": "code",
      "source": [
        "def get_klsum_summary(link):\n",
        "  transcript= get_transcripts(link)\n",
        "  transcript= ''.join(transcript)\n",
        "  parser=PlaintextParser.from_string(transcript,Tokenizer('english'))\n",
        "  # Instantiating the  KLSummarizer\n",
        "  kl_summarizer=KLSummarizer()\n",
        "  kl_summary=kl_summarizer(parser.document,sentences_count=32)\n",
        "\n",
        "  # Printing the summary\n",
        "  for sentence in kl_summary:\n",
        "      print(sentence)"
      ],
      "metadata": {
        "id": "Il9F5Nis9HlL"
      },
      "execution_count": 21,
      "outputs": []
    },
    {
      "cell_type": "code",
      "source": [
        "x= get_klsum_summary('https://podcasts.google.com/feed/aHR0cHM6Ly9mZWVkczIuZmVlZGJ1cm5lci5jb20vdGVkdGFsa3NfYXVkaW8/episode/ZW4uYXVkaW8udGFsay50ZWQuY29tOjk3NDA4?sa=X&ved=0CAUQkfYCahgKEwiQuOnlr7L6AhUAAAAAHQAAAAAQiwc')\n",
        "x"
      ],
      "metadata": {
        "colab": {
          "base_uri": "https://localhost:8080/"
        },
        "id": "V13FEGzY9Vyn",
        "outputId": "d7c00c11-3a5a-47c3-afb8-8bdb45824fb5"
      },
      "execution_count": 22,
      "outputs": [
        {
          "output_type": "stream",
          "name": "stdout",
          "text": [
            "https://backend.endpoints.firstory-709db.cloud.goog/play.mp3?url=https%3A%2F%2Fdts.podtrac.com%2Fredirect.mp3%2Fdownload.ted.com%2Ftalks%2FEnzoRomero_2022U.mp3%3Fapikey%3D172BB350-0207%26prx_url%3Dhttps%3A%2F%2Fchtbl.com%2Ftrack%2F48D18%2Fhttps%3A%2F%2Fdovetail.prxu.org%2F70%2F1ebf1923-1f21-455d-9520-2319f2b9f17c%2FEnzoRomero_2022U_VO_Intro.mp3\n",
            "It's TED Talks Daily.\n",
            "Support for TED Talks Daily comes from Progressive.\n",
            "Multitask right now.\n",
            "Quote today at progressive.com.\n",
            "Potential savings will vary.\n",
            "One in seven people around the world has some kind of disability.\n",
            "Since this was a research project, we had enough funding to buy stuff from abroad.\n",
            "This is one of the main reasons why it will cost at least $40,000 to make this prosthesis.\n",
            "But $40,000 is way too much, considering that four out of five people with upper limb amputation live in developing countries.\n",
            "Even the $25,000 that costs a robotic prosthesis imported from abroad is way too much.\n",
            "In Peru, that is equivalent to work full time on a minimum wage for almost seven years just to buy the prosthesis, never mind pay for your food or your house.\n",
            "It is often that people get injured while doing manual labor activities, like farming or metal manufacturing.\n",
            "The answer was three.\n",
            "This also helps us to reduce the number of electromyographic sensors too.\n",
            "From an arrangement of eight, we pass just to one.\n",
            "But material prices matter too.\n",
            "In order to develop our prosthesis, the process will go like this.\n",
            "So far, in lab Bionics, we have two types of prosthesis.\n",
            "Pisco costs just 10% of an imported robotic prosthesis that will come from abroad.\n",
            "This means that even more working class people can access to our technology.\n",
            "I am certain that we are able to be on the side with technology that is brought from abroad to our region, being sold in a very expensive way.\n",
            "We have the capacity to develop our own technology, having the necessities of our people in mind.\n",
            "For me, when people, our users, get back to work on their places, that look of compassion changed to astonishment.\n",
            "Would you like to join us?\n",
            "So where are we now?\n",
            "We're going to have major breakthroughs in the ability to integrate the whole mind.\n",
            "Are we amplifying our energy?\n",
            "Are we diminishing our energy?\n",
            "Mind Body Spirit, a three-part series on the TED Radio Hour from NPR.\n",
            "Listen wherever you get your podcasts.\n",
            "Leave us a review on Apple podcasts or email us at podcasts at ted.com.\n",
            "Welcome, you're listening to SP NEW.sub.vtt\n"
          ]
        }
      ]
    }
  ]
}